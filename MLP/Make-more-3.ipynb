{
  "nbformat": 4,
  "nbformat_minor": 0,
  "metadata": {
    "colab": {
      "provenance": []
    },
    "kernelspec": {
      "name": "python3",
      "display_name": "Python 3"
    },
    "language_info": {
      "name": "python"
    }
  },
  "cells": [
    {
      "cell_type": "code",
      "execution_count": null,
      "metadata": {
        "id": "oN14LeQvK-aq"
      },
      "outputs": [],
      "source": [
        "import torch\n",
        "import torch.nn.functional as F\n",
        "import matplotlib.pyplot as plt\n",
        "%matplotlib inline"
      ]
    },
    {
      "cell_type": "code",
      "source": [
        "#unpack our learning dataset\n",
        "words = open('names.txt','r').read().splitlines()\n",
        "words[:6]"
      ],
      "metadata": {
        "colab": {
          "base_uri": "https://localhost:8080/"
        },
        "id": "RY4MjDZ-LGDi",
        "outputId": "7a62a1d4-6e85-40f1-f8da-58e12e6c2847"
      },
      "execution_count": null,
      "outputs": [
        {
          "output_type": "execute_result",
          "data": {
            "text/plain": [
              "['emma', 'olivia', 'ava', 'isabella', 'sophia', 'charlotte']"
            ]
          },
          "metadata": {},
          "execution_count": 2
        }
      ]
    },
    {
      "cell_type": "code",
      "source": [
        "#Vocabulary of characters an mappings from/to integers\n",
        "\n",
        "chars = sorted(list(set(''.join(words)))) # concatenate all dataset as a sinle string and passes it thru the set constructor\n",
        "\n",
        "stoi = {s:i+1 for i,s in enumerate(chars)} # stoi maps a-0, b-1 and so on til z-25\n",
        "\n",
        "# what about ourspecial char\n",
        "stoi['.'] = 0\n",
        "itos = {i:s for s,i in stoi.items()}\n",
        "\n",
        "print(itos)"
      ],
      "metadata": {
        "colab": {
          "base_uri": "https://localhost:8080/"
        },
        "id": "H5XhOVhNLMeC",
        "outputId": "08efdcdf-acdb-4410-f8f9-7a51ff1ec89f"
      },
      "execution_count": null,
      "outputs": [
        {
          "output_type": "stream",
          "name": "stdout",
          "text": [
            "{1: 'a', 2: 'b', 3: 'c', 4: 'd', 5: 'e', 6: 'f', 7: 'g', 8: 'h', 9: 'i', 10: 'j', 11: 'k', 12: 'l', 13: 'm', 14: 'n', 15: 'o', 16: 'p', 17: 'q', 18: 'r', 19: 's', 20: 't', 21: 'u', 22: 'v', 23: 'w', 24: 'x', 25: 'y', 26: 'z', 0: '.'}\n"
          ]
        }
      ]
    },
    {
      "cell_type": "code",
      "source": [
        "block_size = 3 # context length: how many char do we take to predict the next one\n",
        "X, Y = [], [] #X are input to the NN and Y are the label for each example inside X\n",
        "for w in words[:]: #rn first 5 for efficeincy\n",
        "  #print(w) \n",
        "  context = [0] * block_size # padded context of 0 tokens\n",
        "  for ch in w + '.':\n",
        "     ix = stoi[ch]     \n",
        "     X.append(context) # stores the current running context context \n",
        "     Y.append(ix) # array y of the current character \n",
        "     context = context[1:] + [ix] # crop the context and append new char in sequence\n",
        "\n",
        "X = torch.tensor(X)\n",
        "Y = torch.tensor(Y)"
      ],
      "metadata": {
        "id": "VRuF6EsWLQAF"
      },
      "execution_count": null,
      "outputs": []
    },
    {
      "cell_type": "code",
      "source": [
        "X.shape, Y.shape #dataset"
      ],
      "metadata": {
        "colab": {
          "base_uri": "https://localhost:8080/"
        },
        "id": "8MVHF1p9LYag",
        "outputId": "a563c4fe-3f18-4cd7-df0f-e51fdcf5cdec"
      },
      "execution_count": null,
      "outputs": [
        {
          "output_type": "execute_result",
          "data": {
            "text/plain": [
              "(torch.Size([228146, 3]), torch.Size([228146]))"
            ]
          },
          "metadata": {},
          "execution_count": 5
        }
      ]
    },
    {
      "cell_type": "code",
      "source": [
        "g = torch.Generator().manual_seed(2147483647)\n",
        "C = torch.randn((27,2), generator=g)\n",
        "W1 = torch.randn((6, 100), generator=g) # lets have 100 neurons\n",
        "b1 = torch.randn(100, generator=g)\n",
        "W2 = torch.randn((100,27), generator=g) # input is now 100, output 27 cause 27 chars\n",
        "b2 = torch.randn(27, generator=g)\n",
        "\n",
        "# make a single list of the parameters\n",
        "param = [C,W1,b1,W2,b2]"
      ],
      "metadata": {
        "id": "x-VVFUcwLd5D"
      },
      "execution_count": null,
      "outputs": []
    },
    {
      "cell_type": "code",
      "source": [
        "sum(p.nelement() for p in param) #number of total parameters stays same"
      ],
      "metadata": {
        "colab": {
          "base_uri": "https://localhost:8080/"
        },
        "id": "S21gF9d1Lkz6",
        "outputId": "106328b8-2a64-48cf-f779-9e3eb1e9dfe7"
      },
      "execution_count": null,
      "outputs": [
        {
          "output_type": "execute_result",
          "data": {
            "text/plain": [
              "3481"
            ]
          },
          "metadata": {},
          "execution_count": 7
        }
      ]
    },
    {
      "cell_type": "code",
      "source": [
        "#they all require gradients\n",
        "for p in param:\n",
        "  p.requires_grad = True\n"
      ],
      "metadata": {
        "id": "exlIFS_cLnkP"
      },
      "execution_count": null,
      "outputs": []
    },
    {
      "cell_type": "code",
      "source": [
        "for i in range(500):\n",
        "\n",
        "  #minibatch creation\n",
        "  ix = torch.randint(0,X.shape[0], (32,)) #creating integers to index into our dataset (32 of them)\n",
        "# as we are only dealing with minibatches the quality of our gradient isn't the best, but the grad direction is good enough that it is useful\n",
        "# the point is that it is BETTER to have an approx gradient and take a lot of steps rather than calculating the EXACT gradient and having fewer steps\n",
        "\n",
        "  #forward pass\n",
        "  emb = C[X[ix]] # allows our embedding to be 32,3,2 not 22000,3,2\n",
        "  h = torch.tanh(emb.view(-1,6) @ W1 + b1)\n",
        "  logits = h @ W2 + b2\n",
        "  loss = F.cross_entropy(logits, Y[ix])\n",
        "  #print(loss.item())\n",
        "\n",
        "  #backward pass\n",
        "  for p in param:\n",
        "    p.grad = None\n",
        "  loss.backward()\n",
        "\n",
        "  #update\n",
        "  for p in param:\n",
        "    p.data += -0.1 * p.grad #0.1 learning rate for now\n",
        "\n"
      ],
      "metadata": {
        "id": "whS83MaOL2Ny"
      },
      "execution_count": null,
      "outputs": []
    },
    {
      "cell_type": "markdown",
      "source": [
        "rn its taking quite some time for every single interation. we are forwarding and bacwarding 28000 example. its faster if we do this in batches. thus we select a random minibatch and forward, backward and update on this minibatch and then do this for all the minibatches "
      ],
      "metadata": {
        "id": "Om0RNCNlMI7e"
      }
    },
    {
      "cell_type": "code",
      "source": [
        "# torch.randint(0,X.shape[0], (32,)) #creating integers to index into our dataset (32 of them)"
      ],
      "metadata": {
        "id": "JVOwmtKUL-ma"
      },
      "execution_count": null,
      "outputs": []
    },
    {
      "cell_type": "markdown",
      "source": [
        "HOW does one figure out what learning rate we want. From playing around with the function a good rate is somewhere between 0.001 and 1 for our dataset. lets find it"
      ],
      "metadata": {
        "id": "z6oY41ARPHWh"
      }
    },
    {
      "cell_type": "code",
      "source": [
        "lre = torch.linspace(-3,0,1000) # because we dont wanna go thru all of these linearly\n",
        "lrs = 10**lre # now we are spaced exponentially in the interval\n",
        "#lrs"
      ],
      "metadata": {
        "id": "tCg_vE7uM9rV"
      },
      "execution_count": null,
      "outputs": []
    },
    {
      "cell_type": "code",
      "source": [
        "#lets track the learning rate and losses\n",
        "\n",
        "lri = []\n",
        "lossi = []\n",
        "\n",
        "for i in range(10000):\n",
        "\n",
        "  #minibatch creation\n",
        "  ix = torch.randint(0,X.shape[0], (32,)) #creating integers to index into our dataset (32 of them)\n",
        "# as we are only dealing with minibatches the quality of our gradient isn't the best, but the grad direction is good enough that it is useful\n",
        "# the point is that it is BETTER to have an approx gradient and take a lot of steps rather than calculating the EXACT gradient and having fewer steps\n",
        "\n",
        "  #forward pass\n",
        "  emb = C[X[ix]] # allows our embedding to be 32,3,2 not 22000,3,2\n",
        "  h = torch.tanh(emb.view(-1,6) @ W1 + b1)\n",
        "  logits = h @ W2 + b2\n",
        "  loss = F.cross_entropy(logits, Y[ix])\n",
        "  #print(loss.item())\n",
        "\n",
        "  #backward pass\n",
        "  for p in param:\n",
        "    p.grad = None\n",
        "  loss.backward()\n",
        "\n",
        "  #update\n",
        "  #lr = lrs[i]\n",
        "  lr = 10**-1\n",
        "  for p in param:\n",
        "    p.data += -lr * p.grad #0.1 learning rate for now\n",
        "\n",
        "  #stat tracker\n",
        "  #lri.append(lre[i])\n",
        "  #lossi.append(loss.item())\n",
        "\n",
        "\n",
        "print(loss.item())\n"
      ],
      "metadata": {
        "colab": {
          "base_uri": "https://localhost:8080/"
        },
        "id": "bmiVC4rPP2xM",
        "outputId": "c1b860fd-a4a2-40ec-89e7-4e934fa17235"
      },
      "execution_count": null,
      "outputs": [
        {
          "output_type": "stream",
          "name": "stdout",
          "text": [
            "2.359174966812134\n"
          ]
        }
      ]
    },
    {
      "cell_type": "code",
      "source": [
        "#plt.plot(lri,lossi)\n",
        "\n",
        "emb = C[X[ix]] # allows our embedding to be 32,3,2 not 22000,3,2\n",
        "h = torch.tanh(emb.view(-1,6) @ W1 + b1)\n",
        "logits = h @ W2 + b2\n",
        "loss = F.cross_entropy(logits, Y[ix])\n",
        "print(loss.item())"
      ],
      "metadata": {
        "colab": {
          "base_uri": "https://localhost:8080/"
        },
        "id": "NSm0UD6xRJHX",
        "outputId": "c0c7ad79-f2ae-4822-a5f3-94a659f3ce30"
      },
      "execution_count": null,
      "outputs": [
        {
          "output_type": "stream",
          "name": "stdout",
          "text": [
            "1.9533624649047852\n"
          ]
        }
      ]
    },
    {
      "cell_type": "markdown",
      "source": [
        "NOTE: this is not the best model, because if we lets say added a lot more neurons and overfit the data cause of more params, it will become more of a copy machine as in it will simply memorise the dataset verbatum and not produce any new words. THUS, we split the dataset into three as follows.\n",
        "\n",
        "## Training split(80%), dev/validation (10%), test(10%)\n",
        "remember that test split is only used a handfull of times otherwise the NN will get trained on that too. "
      ],
      "metadata": {
        "id": "Jnt6abR_UXfB"
      }
    },
    {
      "cell_type": "code",
      "source": [
        "# building the dataset\n",
        "\n",
        "def build_dataset(words):\n",
        "    block_size = 3 # context length: how many char do we take to predict the next one\n",
        "    X, Y = [], [] #X are input to the NN and Y are the label for each example inside X\n",
        "    for w in words[:]: #rn first 5 for efficeincy\n",
        "      #print(w) \n",
        "      context = [0] * block_size # padded context of 0 tokens\n",
        "      for ch in w + '.':\n",
        "        ix = stoi[ch]     \n",
        "        X.append(context) # stores the current running context context \n",
        "        Y.append(ix) # array y of the current character \n",
        "        context = context[1:] + [ix] # crop the context and append new char in sequence\n",
        "\n",
        "    X = torch.tensor(X)\n",
        "    Y = torch.tensor(Y)\n",
        "    print(X.shape, Y.shape)\n",
        "    return X, Y\n",
        "\n",
        "import random\n",
        "random.seed(42)\n",
        "random.shuffle(words)\n",
        "n1 = int(0.8*len(words))\n",
        "n2 = int(0.9*len(words))\n",
        "\n",
        "Xtr, Ytr = build_dataset(words[:n1]) #80% of the words\n",
        "Xdev, Ydev = build_dataset(words[n1:n2])# 90 -80% of the words\n",
        "Xte, Yte = build_dataset(words[n2:])# remaining words"
      ],
      "metadata": {
        "colab": {
          "base_uri": "https://localhost:8080/"
        },
        "id": "VZtW-D3jROQN",
        "outputId": "16e7a695-d192-4e5e-a6fb-10453e4b3319"
      },
      "execution_count": null,
      "outputs": [
        {
          "output_type": "stream",
          "name": "stdout",
          "text": [
            "torch.Size([182625, 3]) torch.Size([182625])\n",
            "torch.Size([22655, 3]) torch.Size([22655])\n",
            "torch.Size([22866, 3]) torch.Size([22866])\n"
          ]
        }
      ]
    },
    {
      "cell_type": "markdown",
      "source": [
        "# Training Dataset"
      ],
      "metadata": {
        "id": "oICws6vyRfKh"
      }
    },
    {
      "cell_type": "code",
      "source": [
        "Xtr.shape, Ytr.shape #dataset"
      ],
      "metadata": {
        "colab": {
          "base_uri": "https://localhost:8080/"
        },
        "id": "0Gh7qHtBRFVV",
        "outputId": "29bc9b0e-dba9-489a-8672-4cc870f058d3"
      },
      "execution_count": null,
      "outputs": [
        {
          "output_type": "execute_result",
          "data": {
            "text/plain": [
              "(torch.Size([182625, 3]), torch.Size([182625]))"
            ]
          },
          "metadata": {},
          "execution_count": 92
        }
      ]
    },
    {
      "cell_type": "markdown",
      "source": [
        "reset the netwrk"
      ],
      "metadata": {
        "id": "qO0E_KxnR0Tj"
      }
    },
    {
      "cell_type": "code",
      "source": [
        "g = torch.Generator().manual_seed(2147483647)\n",
        "C = torch.randn((27,10), generator=g)\n",
        "W1 = torch.randn((30, 300), generator=g) # lets have 100 neurons\n",
        "b1 = torch.randn(300, generator=g)\n",
        "W2 = torch.randn((300,27), generator=g) # input is now 100, output 27 cause 27 chars\n",
        "b2 = torch.randn(27, generator=g)\n",
        "\n",
        "# make a single list of the parameters\n",
        "param = [C,W1,b1,W2,b2]\n",
        "\n",
        "print(sum(p.nelement() for p in param)) #number of total parameters stays same\n",
        "\n",
        "\n",
        "#they all require gradients\n",
        "for p in param:\n",
        "  p.requires_grad = True"
      ],
      "metadata": {
        "colab": {
          "base_uri": "https://localhost:8080/"
        },
        "id": "_y5w6exnRqFr",
        "outputId": "d8643cd8-143b-441c-8b25-34ef6967f242"
      },
      "execution_count": null,
      "outputs": [
        {
          "output_type": "stream",
          "name": "stdout",
          "text": [
            "17697\n"
          ]
        }
      ]
    },
    {
      "cell_type": "code",
      "source": [
        "lre = torch.linspace(-3,0,1000) # because we dont wanna go thru all of these linearly\n",
        "lrs = 10**lre # now we are spaced exponentially in the interval"
      ],
      "metadata": {
        "id": "PS9yX3n1SJuv"
      },
      "execution_count": null,
      "outputs": []
    },
    {
      "cell_type": "code",
      "source": [
        "lri = []\n",
        "lossi = []\n",
        "stepi = []"
      ],
      "metadata": {
        "id": "fjteZvF6Y0a3"
      },
      "execution_count": null,
      "outputs": []
    },
    {
      "cell_type": "code",
      "source": [
        "\n",
        "for i in range(100000):\n",
        "\n",
        "  #minibatch creation\n",
        "  ix = torch.randint(0,Xtr.shape[0], (42,)) #creating integers to index into our dataset (32 of them)\n",
        "\n",
        "  #forward pass\n",
        "  emb = C[Xtr[ix]] # allows our embedding to be 32,3,2 not 22000,3,2\n",
        "  h = torch.tanh(emb.view(-1,30) @ W1 + b1)\n",
        "  logits = h @ W2 + b2\n",
        "  loss = F.cross_entropy(logits, Ytr[ix])\n",
        "  #print(loss.item())\n",
        "\n",
        "  #backward pass\n",
        "  for p in param:\n",
        "    p.grad = None\n",
        "  loss.backward()\n",
        "\n",
        "  #update\n",
        "  #lr = lrs[i]\n",
        "  lr = 0.1 if i<50000 else 0.01\n",
        "  for p in param:\n",
        "    p.data += -lr * p.grad #0.1 learning rate for now\n",
        "\n",
        "  #stat tracker\n",
        "  #lri.append(lre[i])\n",
        "  stepi.append(i)\n",
        "  lossi.append(loss.log10().item())\n",
        "\n",
        "\n",
        "\n",
        "print(loss.item())"
      ],
      "metadata": {
        "colab": {
          "base_uri": "https://localhost:8080/"
        },
        "id": "97GGkAwyRzEs",
        "outputId": "f726b1b2-eb3f-4a95-8943-cf18e64a703c"
      },
      "execution_count": null,
      "outputs": [
        {
          "output_type": "stream",
          "name": "stdout",
          "text": [
            "2.0840373039245605\n"
          ]
        }
      ]
    },
    {
      "cell_type": "code",
      "source": [
        "plt.plot(stepi, lossi)"
      ],
      "metadata": {
        "colab": {
          "base_uri": "https://localhost:8080/",
          "height": 451
        },
        "id": "e0o_vZDLUVTr",
        "outputId": "48835dc0-7a94-4635-e108-198404c5056f"
      },
      "execution_count": null,
      "outputs": [
        {
          "output_type": "execute_result",
          "data": {
            "text/plain": [
              "[<matplotlib.lines.Line2D at 0x7fa96ce6afe0>]"
            ]
          },
          "metadata": {},
          "execution_count": 101
        },
        {
          "output_type": "display_data",
          "data": {
            "text/plain": [
              "<Figure size 640x480 with 1 Axes>"
            ],
            "image/png": "[encoded data removed]"
          },
          "metadata": {}
        }
      ]
    },
    {
      "cell_type": "code",
      "source": [
        "emb = C[Xtr] \n",
        "h = torch.tanh(emb.view(-1,30) @ W1 + b1)\n",
        "logits = h @ W2 + b2\n",
        "loss = F.cross_entropy(logits, Ytr)\n",
        "print(loss.item())"
      ],
      "metadata": {
        "colab": {
          "base_uri": "https://localhost:8080/"
        },
        "id": "bZ-WppcjTNuh",
        "outputId": "cc7d49ff-5714-4da8-f586-cb2e2b699154"
      },
      "execution_count": null,
      "outputs": [
        {
          "output_type": "stream",
          "name": "stdout",
          "text": [
            "2.112736225128174\n"
          ]
        }
      ]
    },
    {
      "cell_type": "code",
      "source": [
        "emb = C[Xdev] \n",
        "h = torch.tanh(emb.view(-1,30) @ W1 + b1)\n",
        "logits = h @ W2 + b2\n",
        "loss = F.cross_entropy(logits, Ydev)\n",
        "print(loss.item())"
      ],
      "metadata": {
        "colab": {
          "base_uri": "https://localhost:8080/"
        },
        "id": "4fWMJZOcSUXy",
        "outputId": "e035db70-cc2d-44a2-fc1c-5f33a57903fc"
      },
      "execution_count": null,
      "outputs": [
        {
          "output_type": "stream",
          "name": "stdout",
          "text": [
            "2.168076753616333\n"
          ]
        }
      ]
    },
    {
      "cell_type": "markdown",
      "source": [
        "the training and dev losses are about the same. this implies we are underfiitng our data. Need more parameters in our NN. lets go back and scale up."
      ],
      "metadata": {
        "id": "7vt9K__xTbi7"
      }
    },
    {
      "cell_type": "markdown",
      "source": [
        "we scaled up thehidden layer but the embbedings may be causing a bottleneck. this culd be due to use only embedding over 2 dimensions, and the data is too much to embedd of sucha a small dimension.lets try increasing the size to 10 dim. Note: refer to the MLP character NN video by anderj kaparthy at (1:04:35)"
      ],
      "metadata": {
        "id": "B_mW7AYZXHqn"
      }
    },
    {
      "cell_type": "markdown",
      "source": [
        "# Sample "
      ],
      "metadata": {
        "id": "tXZIEiOQbDxs"
      }
    },
    {
      "cell_type": "code",
      "source": [
        "g = torch.Generator().manual_seed(2147483647 + 10)\n",
        "\n",
        "\n",
        "for i in range(30):\n",
        "  out = []\n",
        "  context = [0] * block_size\n",
        "  while True:\n",
        "    \n",
        "    emb = C[torch.tensor([context])] \n",
        "    h = torch.tanh(emb.view(1,-1) @ W1 + b1)\n",
        "    logits = h @ W2 + b2\n",
        "    probs = F.softmax(logits, dim=1)\n",
        "    ix = torch.multinomial(probs, num_samples=1, generator=g).item()\n",
        "    context = context[1:] + [ix]\n",
        "\n",
        "    out.append(ix)\n",
        "    #print(itos[ix])\n",
        "    if ix == 0:\n",
        "      break\n",
        "  print(''.join(itos[i] for i in out))"
      ],
      "metadata": {
        "colab": {
          "base_uri": "https://localhost:8080/"
        },
        "id": "dGh9e2lHS0w-",
        "outputId": "3c51260b-32e7-42d6-dee2-77e0615bc431"
      },
      "execution_count": null,
      "outputs": [
        {
          "output_type": "stream",
          "name": "stdout",
          "text": [
            "mora.\n",
            "kayanniee.\n",
            "mad.\n",
            "ryah.\n",
            "rethan.\n",
            "endram.\n",
            "caileed.\n",
            "eliah.\n",
            "milopileigh.\n",
            "esmanaraelyzion.\n",
            "kamin.\n",
            "shuberg.\n",
            "himies.\n",
            "kindreelynn.\n",
            "nochif.\n",
            "uzzingel.\n",
            "kymoni.\n",
            "els.\n",
            "kayshaston.\n",
            "azhia.\n",
            "calynn.\n",
            "ufe.\n",
            "alel.\n",
            "juren.\n",
            "crevis.\n",
            "evonten.\n",
            "adi.\n",
            "fen.\n",
            "oeshan.\n",
            "peigh.\n"
          ]
        }
      ]
    },
    {
      "cell_type": "code",
      "source": [],
      "metadata": {
        "id": "Wye1-BBGctvj"
      },
      "execution_count": null,
      "outputs": []
    }
  ]
}