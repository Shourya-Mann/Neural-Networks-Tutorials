{
 "cells": [
  {
   "cell_type": "code",
   "execution_count": 242,
   "id": "f41deaf9",
   "metadata": {},
   "outputs": [],
   "source": [
    "import math\n",
    "import numpy as np\n",
    "import matplotlib.pyplot as plt\n",
    "%matplotlib inline"
   ]
  },
  {
   "cell_type": "code",
   "execution_count": 243,
   "id": "b98dca5f",
   "metadata": {},
   "outputs": [],
   "source": [
    "def f(x):\n",
    "    return 3*x**2+5*x + 6"
   ]
  },
  {
   "cell_type": "code",
   "execution_count": 244,
   "id": "3f25effd",
   "metadata": {},
   "outputs": [
    {
     "data": {
      "text/plain": [
       "1708"
      ]
     },
     "execution_count": 244,
     "metadata": {},
     "output_type": "execute_result"
    }
   ],
   "source": [
    "f(23)"
   ]
  },
  {
   "cell_type": "code",
   "execution_count": 245,
   "id": "56ecffd6",
   "metadata": {},
   "outputs": [
    {
     "data": {
      "text/plain": [
       "[<matplotlib.lines.Line2D at 0x238c962e9d0>]"
      ]
     },
     "execution_count": 245,
     "metadata": {},
     "output_type": "execute_result"
    },
    {
     "data": {
      "image/png": "[encoded data removed]",
      "text/plain": [
       "<Figure size 432x288 with 1 Axes>"
      ]
     },
     "metadata": {
      "needs_background": "light"
     },
     "output_type": "display_data"
    }
   ],
   "source": [
    "xs = np.arange(-5,5,0.1)\n",
    "ys = f(xs)\n",
    "plt.plot(xs,ys)"
   ]
  },
  {
   "cell_type": "code",
   "execution_count": 246,
   "id": "897cd618",
   "metadata": {},
   "outputs": [
    {
     "data": {
      "text/plain": [
       "23.0003000000778"
      ]
     },
     "execution_count": 246,
     "metadata": {},
     "output_type": "execute_result"
    }
   ],
   "source": [
    "h = 0.0001\n",
    "x= 3.0\n",
    "(f(x + h)-f(x))/h"
   ]
  },
  {
   "cell_type": "code",
   "execution_count": 247,
   "id": "ecd72078",
   "metadata": {},
   "outputs": [
    {
     "name": "stdout",
     "output_type": "stream",
     "text": [
      "19.0\n"
     ]
    }
   ],
   "source": [
    "#more copmplex\n",
    "a = 2.0 \n",
    "b = 6.0 \n",
    "c = 7.0\n",
    "d = a*b + c\n",
    "print(d)"
   ]
  },
  {
   "cell_type": "code",
   "execution_count": 248,
   "id": "343dde08",
   "metadata": {},
   "outputs": [
    {
     "name": "stdout",
     "output_type": "stream",
     "text": [
      "-5.0\n",
      "-4.9994\n",
      "slope 6.00000000000378\n"
     ]
    }
   ],
   "source": [
    "h = 0.0001\n",
    "#more copmplex\n",
    "a = -2.0 \n",
    "b = 6.0 \n",
    "c = 7.0\n",
    "d1 = a*b + c\n",
    "a += h\n",
    "d2 = a*b +c\n",
    "print(d1)\n",
    "print(d2)\n",
    "print('slope', (d2-d1)/h)"
   ]
  },
  {
   "cell_type": "code",
   "execution_count": 249,
   "id": "9ffe5de5",
   "metadata": {},
   "outputs": [
    {
     "data": {
      "text/plain": [
       "Value(data=-16.6)"
      ]
     },
     "execution_count": 249,
     "metadata": {},
     "output_type": "execute_result"
    }
   ],
   "source": [
    "class Value:\n",
    "    \n",
    "    def __init__(self, data, _children = (), _op ='', label=''):\n",
    "        self.data = data\n",
    "        self.grad= 0.0\n",
    "        self._backward = lambda: None\n",
    "        self._prev = set(_children)\n",
    "        self._op = _op\n",
    "        self.label = label\n",
    "\n",
    "    \n",
    "    def __repr__(self):\n",
    "        return f\"Value(data={self.data})\"\n",
    "    \n",
    "    # define addition\n",
    "    def __add__(self, other):\n",
    "        out = Value(self.data + other.data, (self, other), '+')\n",
    "        \n",
    "        def _backward():\n",
    "              self.grad += 1.0 * out.grad #using plus-eqauls lets us accumulate the gradient instead of just setting it(which could cause issues with repeated variables)\n",
    "              other.grad += 1.0 * out.grad\n",
    "        out._backward = _backward\n",
    "        return out\n",
    "    \n",
    "    #define multipy\n",
    "    def __mul__(self,other):\n",
    "        out = Value(self.data * other.data, (self , other), '*')\n",
    "        \n",
    "        def _backward():\n",
    "          self.grad += other.data * out.grad\n",
    "          other.grad += self.data * out.grad\n",
    "        out._backward = _backward\n",
    "        return out\n",
    "    \n",
    "    #define tanh\n",
    "    def tanh(self):\n",
    "        x = self.data\n",
    "        t = (math.exp(2*x) - 1)/(math.exp(2*x) + 1)\n",
    "        out = Value(t, (self, ), 'tanh')\n",
    "        def _backward():\n",
    "          self.grad += (1 - t**2) * out.grad\n",
    "        out._backward = _backward      \n",
    "        return out\n",
    "    \n",
    "    def backward(self):\n",
    "    \n",
    "        topo = []\n",
    "        visited = set()\n",
    "        def build_topo(v):\n",
    "          if v not in visited:\n",
    "            visited.add(v)\n",
    "            for child in v._prev:\n",
    "              build_topo(child)\n",
    "            topo.append(v)\n",
    "        build_topo(self)\n",
    "    \n",
    "        self.grad = 1.0\n",
    "        for node in reversed(topo):\n",
    "          node._backward()\n",
    "    \n",
    "a = Value(2.0, label='a')\n",
    "b = Value(-3.7, label= 'b')                                                                                                                                                                                                                                                                                                                                                                                                                                                                                                                                                                                                                                                                                                                                                                                                                                                                                                                                                                                                                                                                                                                                                                                                                                                                                                                                                                                                                                                                                                                                                                                                                                                                                                                                                                                                                                                                                                                                                                                                                                                                                                                                                                                                                                                                                                                                                                                                                                                                                                                                                                                                                                                                                                                                                                                                                                                                                                                                                                                                                                                                                                                                                                                                                                                                                                                                                                                                                                                                                                                                                                                                                                                                                                                                                                                                                                                                                                                                                                                                                                                                                                                                                                                                                                                                                                                                                                                                                                                                                                                                                                                                                                                                                                                                                                                                                                                                                                                                                                                                                                                                                                                   \n",
    "c = Value(10.0,label = 'c')\n",
    "e = a+b; e.label = 'e'\n",
    "d = e+c; d.label = 'd'\n",
    "f = Value(-2.0, label='f')\n",
    "L = d * f; L.label = 'L'\n",
    "L\n",
    "#a.__add__(b.__mul__(c))\n",
    "\n"
   ]
  },
  {
   "cell_type": "code",
   "execution_count": 250,
   "id": "33c1072a",
   "metadata": {},
   "outputs": [],
   "source": [
    "import graphviz\n",
    "from graphviz import Digraph\n",
    "\n",
    "def trace(root):\n",
    "  # builds a set of all nodes and edges in a graph\n",
    "  nodes, edges = set(), set()\n",
    "  def build(v):\n",
    "    if v not in nodes:\n",
    "      nodes.add(v)\n",
    "      for child in v._prev:\n",
    "        edges.add((child, v))\n",
    "        build(child)\n",
    "  build(root)\n",
    "  return nodes, edges\n",
    "\n",
    "def draw_dot(root):\n",
    "  dot = Digraph(format='svg', graph_attr={'rankdir': 'LR'}) # LR = left to right\n",
    "  \n",
    "  nodes, edges = trace(root)\n",
    "  for n in nodes:\n",
    "    uid = str(id(n))\n",
    "    # for any value in the graph, create a rectangular ('record') node for it\n",
    "    dot.node(name = uid, label = \"{ %s | data %.4f | grad % 4f }\" % (n.label, n.data, n.grad), shape='record')\n",
    "    if n._op:\n",
    "      # if this value is a result of some operation, create an op node for it\n",
    "      dot.node(name = uid + n._op, label = n._op)\n",
    "      # and connect this node to it\n",
    "      dot.edge(uid + n._op, uid)\n",
    "\n",
    "  for n1, n2 in edges:\n",
    "    # connect n1 to the op node of n2\n",
    "    dot.edge(str(id(n1)), str(id(n2)) + n2._op)\n",
    "\n",
    "  return dot"
   ]
  },
  {
   "cell_type": "markdown",
   "id": "265286fc",
   "metadata": {},
   "source": [
    "All grads are with respect to L (dd/dL) or (da/dL)"
   ]
  },
  {
   "cell_type": "code",
   "execution_count": 251,
   "id": "88db12e9",
   "metadata": {
    "scrolled": true
   },
   "outputs": [
    {
     "data": {
      "image/svg+xml": [
       "<?xml version=\"1.0\" encoding=\"UTF-8\" standalone=\"no\"?>\n",
       "<!DOCTYPE svg PUBLIC \"-//W3C//DTD SVG 1.1//EN\"\n",
       " \"http://www.w3.org/Graphics/SVG/1.1/DTD/svg11.dtd\">\n",
       "<!-- Generated by graphviz version 8.0.2 (20230410.1723)\n",
       " -->\n",
       "<!-- Pages: 1 -->\n",
       "<svg width=\"1215pt\" height=\"154pt\"\n",
       " viewBox=\"0.00 0.00 1215.00 154.00\" xmlns=\"http://www.w3.org/2000/svg\" xmlns:xlink=\"http://www.w3.org/1999/xlink\">\n",
       "<g id=\"graph0\" class=\"graph\" transform=\"scale(1 1) rotate(0) translate(4 150)\">\n",
       "<polygon fill=\"white\" stroke=\"none\" points=\"-4,4 -4,-150 1211,-150 1211,4 -4,4\"/>\n",
       "<!-- 2442916786864 -->\n",
       "<g id=\"node1\" class=\"node\">\n",
       "<title>2442916786864</title>\n",
       "<polygon fill=\"none\" stroke=\"black\" points=\"333,-27.5 333,-63.5 538,-63.5 538,-27.5 333,-27.5\"/>\n",
       "<text text-anchor=\"middle\" x=\"344.5\" y=\"-41.8\" font-family=\"Times New Roman,serif\" font-size=\"14.00\">e</text>\n",
       "<polyline fill=\"none\" stroke=\"black\" points=\"356,-27.5 356,-63.5\"/>\n",
       "<text text-anchor=\"middle\" x=\"399\" y=\"-41.8\" font-family=\"Times New Roman,serif\" font-size=\"14.00\">data &#45;1.7000</text>\n",
       "<polyline fill=\"none\" stroke=\"black\" points=\"442,-27.5 442,-63.5\"/>\n",
       "<text text-anchor=\"middle\" x=\"490\" y=\"-41.8\" font-family=\"Times New Roman,serif\" font-size=\"14.00\">grad 0.000000</text>\n",
       "</g>\n",
       "<!-- 2442916786432+ -->\n",
       "<g id=\"node4\" class=\"node\">\n",
       "<title>2442916786432+</title>\n",
       "<ellipse fill=\"none\" stroke=\"black\" cx=\"602\" cy=\"-72.5\" rx=\"27\" ry=\"18\"/>\n",
       "<text text-anchor=\"middle\" x=\"602\" y=\"-68.8\" font-family=\"Times New Roman,serif\" font-size=\"14.00\">+</text>\n",
       "</g>\n",
       "<!-- 2442916786864&#45;&gt;2442916786432+ -->\n",
       "<g id=\"edge6\" class=\"edge\">\n",
       "<title>2442916786864&#45;&gt;2442916786432+</title>\n",
       "<path fill=\"none\" stroke=\"black\" d=\"M537.87,-62.14C547.42,-63.71 556.6,-65.21 564.86,-66.57\"/>\n",
       "<polygon fill=\"black\" stroke=\"black\" points=\"564.08,-70.15 574.51,-68.32 565.21,-63.24 564.08,-70.15\"/>\n",
       "</g>\n",
       "<!-- 2442916786864+ -->\n",
       "<g id=\"node2\" class=\"node\">\n",
       "<title>2442916786864+</title>\n",
       "<ellipse fill=\"none\" stroke=\"black\" cx=\"269\" cy=\"-45.5\" rx=\"27\" ry=\"18\"/>\n",
       "<text text-anchor=\"middle\" x=\"269\" y=\"-41.8\" font-family=\"Times New Roman,serif\" font-size=\"14.00\">+</text>\n",
       "</g>\n",
       "<!-- 2442916786864+&#45;&gt;2442916786864 -->\n",
       "<g id=\"edge1\" class=\"edge\">\n",
       "<title>2442916786864+&#45;&gt;2442916786864</title>\n",
       "<path fill=\"none\" stroke=\"black\" d=\"M296.43,-45.5C304.02,-45.5 312.81,-45.5 322.2,-45.5\"/>\n",
       "<polygon fill=\"black\" stroke=\"black\" points=\"322.04,-49 332.04,-45.5 322.04,-42 322.04,-49\"/>\n",
       "</g>\n",
       "<!-- 2442916786432 -->\n",
       "<g id=\"node3\" class=\"node\">\n",
       "<title>2442916786432</title>\n",
       "<polygon fill=\"none\" stroke=\"black\" points=\"666,-54.5 666,-90.5 867,-90.5 867,-54.5 666,-54.5\"/>\n",
       "<text text-anchor=\"middle\" x=\"678\" y=\"-68.8\" font-family=\"Times New Roman,serif\" font-size=\"14.00\">d</text>\n",
       "<polyline fill=\"none\" stroke=\"black\" points=\"690,-54.5 690,-90.5\"/>\n",
       "<text text-anchor=\"middle\" x=\"730.5\" y=\"-68.8\" font-family=\"Times New Roman,serif\" font-size=\"14.00\">data 8.3000</text>\n",
       "<polyline fill=\"none\" stroke=\"black\" points=\"771,-54.5 771,-90.5\"/>\n",
       "<text text-anchor=\"middle\" x=\"819\" y=\"-68.8\" font-family=\"Times New Roman,serif\" font-size=\"14.00\">grad 0.000000</text>\n",
       "</g>\n",
       "<!-- 2442916788160* -->\n",
       "<g id=\"node10\" class=\"node\">\n",
       "<title>2442916788160*</title>\n",
       "<ellipse fill=\"none\" stroke=\"black\" cx=\"931\" cy=\"-99.5\" rx=\"27\" ry=\"18\"/>\n",
       "<text text-anchor=\"middle\" x=\"931\" y=\"-95.8\" font-family=\"Times New Roman,serif\" font-size=\"14.00\">*</text>\n",
       "</g>\n",
       "<!-- 2442916786432&#45;&gt;2442916788160* -->\n",
       "<g id=\"edge9\" class=\"edge\">\n",
       "<title>2442916786432&#45;&gt;2442916788160*</title>\n",
       "<path fill=\"none\" stroke=\"black\" d=\"M866.71,-88.98C876.25,-90.57 885.44,-92.1 893.72,-93.47\"/>\n",
       "<polygon fill=\"black\" stroke=\"black\" points=\"892.96,-97.06 903.4,-95.25 894.11,-90.15 892.96,-97.06\"/>\n",
       "</g>\n",
       "<!-- 2442916786432+&#45;&gt;2442916786432 -->\n",
       "<g id=\"edge2\" class=\"edge\">\n",
       "<title>2442916786432+&#45;&gt;2442916786432</title>\n",
       "<path fill=\"none\" stroke=\"black\" d=\"M629.47,-72.5C637.12,-72.5 645.97,-72.5 655.43,-72.5\"/>\n",
       "<polygon fill=\"black\" stroke=\"black\" points=\"655.32,-76 665.32,-72.5 655.32,-69 655.32,-76\"/>\n",
       "</g>\n",
       "<!-- 2442919178048 -->\n",
       "<g id=\"node5\" class=\"node\">\n",
       "<title>2442919178048</title>\n",
       "<polygon fill=\"none\" stroke=\"black\" points=\"3,-55.5 3,-91.5 203,-91.5 203,-55.5 3,-55.5\"/>\n",
       "<text text-anchor=\"middle\" x=\"14.5\" y=\"-69.8\" font-family=\"Times New Roman,serif\" font-size=\"14.00\">a</text>\n",
       "<polyline fill=\"none\" stroke=\"black\" points=\"26,-55.5 26,-91.5\"/>\n",
       "<text text-anchor=\"middle\" x=\"66.5\" y=\"-69.8\" font-family=\"Times New Roman,serif\" font-size=\"14.00\">data 2.0000</text>\n",
       "<polyline fill=\"none\" stroke=\"black\" points=\"107,-55.5 107,-91.5\"/>\n",
       "<text text-anchor=\"middle\" x=\"155\" y=\"-69.8\" font-family=\"Times New Roman,serif\" font-size=\"14.00\">grad 0.000000</text>\n",
       "</g>\n",
       "<!-- 2442919178048&#45;&gt;2442916786864+ -->\n",
       "<g id=\"edge5\" class=\"edge\">\n",
       "<title>2442919178048&#45;&gt;2442916786864+</title>\n",
       "<path fill=\"none\" stroke=\"black\" d=\"M202.71,-56.65C213.01,-54.89 222.95,-53.19 231.83,-51.68\"/>\n",
       "<polygon fill=\"black\" stroke=\"black\" points=\"232.19,-54.99 241.46,-49.86 231.01,-48.09 232.19,-54.99\"/>\n",
       "</g>\n",
       "<!-- 2442916787536 -->\n",
       "<g id=\"node6\" class=\"node\">\n",
       "<title>2442916787536</title>\n",
       "<polygon fill=\"none\" stroke=\"black\" points=\"665,-109.5 665,-145.5 868,-145.5 868,-109.5 665,-109.5\"/>\n",
       "<text text-anchor=\"middle\" x=\"675.5\" y=\"-123.8\" font-family=\"Times New Roman,serif\" font-size=\"14.00\">f</text>\n",
       "<polyline fill=\"none\" stroke=\"black\" points=\"686,-109.5 686,-145.5\"/>\n",
       "<text text-anchor=\"middle\" x=\"729\" y=\"-123.8\" font-family=\"Times New Roman,serif\" font-size=\"14.00\">data &#45;2.0000</text>\n",
       "<polyline fill=\"none\" stroke=\"black\" points=\"772,-109.5 772,-145.5\"/>\n",
       "<text text-anchor=\"middle\" x=\"820\" y=\"-123.8\" font-family=\"Times New Roman,serif\" font-size=\"14.00\">grad 0.000000</text>\n",
       "</g>\n",
       "<!-- 2442916787536&#45;&gt;2442916788160* -->\n",
       "<g id=\"edge8\" class=\"edge\">\n",
       "<title>2442916787536&#45;&gt;2442916788160*</title>\n",
       "<path fill=\"none\" stroke=\"black\" d=\"M867.64,-110.25C876.87,-108.65 885.76,-107.12 893.79,-105.74\"/>\n",
       "<polygon fill=\"black\" stroke=\"black\" points=\"894.26,-109.04 903.52,-103.89 893.07,-102.14 894.26,-109.04\"/>\n",
       "</g>\n",
       "<!-- 2442919174496 -->\n",
       "<g id=\"node7\" class=\"node\">\n",
       "<title>2442919174496</title>\n",
       "<polygon fill=\"none\" stroke=\"black\" points=\"0,-0.5 0,-36.5 206,-36.5 206,-0.5 0,-0.5\"/>\n",
       "<text text-anchor=\"middle\" x=\"12\" y=\"-14.8\" font-family=\"Times New Roman,serif\" font-size=\"14.00\">b</text>\n",
       "<polyline fill=\"none\" stroke=\"black\" points=\"24,-0.5 24,-36.5\"/>\n",
       "<text text-anchor=\"middle\" x=\"67\" y=\"-14.8\" font-family=\"Times New Roman,serif\" font-size=\"14.00\">data &#45;3.7000</text>\n",
       "<polyline fill=\"none\" stroke=\"black\" points=\"110,-0.5 110,-36.5\"/>\n",
       "<text text-anchor=\"middle\" x=\"158\" y=\"-14.8\" font-family=\"Times New Roman,serif\" font-size=\"14.00\">grad 0.000000</text>\n",
       "</g>\n",
       "<!-- 2442919174496&#45;&gt;2442916786864+ -->\n",
       "<g id=\"edge7\" class=\"edge\">\n",
       "<title>2442919174496&#45;&gt;2442916786864+</title>\n",
       "<path fill=\"none\" stroke=\"black\" d=\"M206,-35.29C215.12,-36.79 223.89,-38.24 231.82,-39.54\"/>\n",
       "<polygon fill=\"black\" stroke=\"black\" points=\"230.98,-43.12 241.41,-41.29 232.11,-36.21 230.98,-43.12\"/>\n",
       "</g>\n",
       "<!-- 2442919177568 -->\n",
       "<g id=\"node8\" class=\"node\">\n",
       "<title>2442919177568</title>\n",
       "<polygon fill=\"none\" stroke=\"black\" points=\"332,-82.5 332,-118.5 539,-118.5 539,-82.5 332,-82.5\"/>\n",
       "<text text-anchor=\"middle\" x=\"343.5\" y=\"-96.8\" font-family=\"Times New Roman,serif\" font-size=\"14.00\">c</text>\n",
       "<polyline fill=\"none\" stroke=\"black\" points=\"355,-82.5 355,-118.5\"/>\n",
       "<text text-anchor=\"middle\" x=\"399\" y=\"-96.8\" font-family=\"Times New Roman,serif\" font-size=\"14.00\">data 10.0000</text>\n",
       "<polyline fill=\"none\" stroke=\"black\" points=\"443,-82.5 443,-118.5\"/>\n",
       "<text text-anchor=\"middle\" x=\"491\" y=\"-96.8\" font-family=\"Times New Roman,serif\" font-size=\"14.00\">grad 0.000000</text>\n",
       "</g>\n",
       "<!-- 2442919177568&#45;&gt;2442916786432+ -->\n",
       "<g id=\"edge4\" class=\"edge\">\n",
       "<title>2442919177568&#45;&gt;2442916786432+</title>\n",
       "<path fill=\"none\" stroke=\"black\" d=\"M538.81,-83.09C547.96,-81.53 556.75,-80.03 564.71,-78.68\"/>\n",
       "<polygon fill=\"black\" stroke=\"black\" points=\"565.06,-82 574.33,-76.87 563.89,-75.1 565.06,-82\"/>\n",
       "</g>\n",
       "<!-- 2442916788160 -->\n",
       "<g id=\"node9\" class=\"node\">\n",
       "<title>2442916788160</title>\n",
       "<polygon fill=\"none\" stroke=\"black\" points=\"994,-81.5 994,-117.5 1207,-117.5 1207,-81.5 994,-81.5\"/>\n",
       "<text text-anchor=\"middle\" x=\"1006.5\" y=\"-95.8\" font-family=\"Times New Roman,serif\" font-size=\"14.00\">L</text>\n",
       "<polyline fill=\"none\" stroke=\"black\" points=\"1019,-81.5 1019,-117.5\"/>\n",
       "<text text-anchor=\"middle\" x=\"1065\" y=\"-95.8\" font-family=\"Times New Roman,serif\" font-size=\"14.00\">data &#45;16.6000</text>\n",
       "<polyline fill=\"none\" stroke=\"black\" points=\"1111,-81.5 1111,-117.5\"/>\n",
       "<text text-anchor=\"middle\" x=\"1159\" y=\"-95.8\" font-family=\"Times New Roman,serif\" font-size=\"14.00\">grad 0.000000</text>\n",
       "</g>\n",
       "<!-- 2442916788160*&#45;&gt;2442916788160 -->\n",
       "<g id=\"edge3\" class=\"edge\">\n",
       "<title>2442916788160*&#45;&gt;2442916788160</title>\n",
       "<path fill=\"none\" stroke=\"black\" d=\"M958.17,-99.5C965.51,-99.5 974,-99.5 983.09,-99.5\"/>\n",
       "<polygon fill=\"black\" stroke=\"black\" points=\"983.01,-103 993.01,-99.5 983.01,-96 983.01,-103\"/>\n",
       "</g>\n",
       "</g>\n",
       "</svg>\n"
      ],
      "text/plain": [
       "<graphviz.graphs.Digraph at 0x238c79662b0>"
      ]
     },
     "execution_count": 251,
     "metadata": {},
     "output_type": "execute_result"
    }
   ],
   "source": [
    "draw_dot(L)"
   ]
  },
  {
   "cell_type": "code",
   "execution_count": 252,
   "id": "0817b920",
   "metadata": {},
   "outputs": [],
   "source": [
    "L.grad = 1.0 \n",
    "d.grad = -2.0\n",
    "f.grad = 8.3\n",
    "c.grad = -2.0\n",
    "e.grad = -2.0\n",
    "b.grad =  e.grad * 2.0"
   ]
  },
  {
   "cell_type": "code",
   "execution_count": 253,
   "id": "896cf427",
   "metadata": {},
   "outputs": [
    {
     "name": "stdout",
     "output_type": "stream",
     "text": [
      "-4.7925\n"
     ]
    }
   ],
   "source": [
    "a.data += 0.01 * a.grad\n",
    "b.data += 0.01 * b.grad\n",
    "c.data += 0.01 * c.grad\n",
    "f.data += 0.01 * f.grad\n",
    "\n",
    "e = a * b\n",
    "d = e + c \n",
    "L = d * f\n",
    "print(L.data)"
   ]
  },
  {
   "cell_type": "code",
   "execution_count": 254,
   "id": "63fa7177",
   "metadata": {},
   "outputs": [
    {
     "name": "stdout",
     "output_type": "stream",
     "text": [
      "-1.9999999999953388\n"
     ]
    }
   ],
   "source": [
    "def lol():\n",
    "    h = 0.0001\n",
    "    \n",
    "    a = Value(2.0, label='a')\n",
    "    b = Value(-3.7, label= 'b')                                                                                                                                                                                                                                                                                                                                                                                                                                                                                                                                                                                                                                                                                                                                                                                                                                                                                                                                                                                                                                                                                                                                                                                                                                                                                                                                                                                                                                                                                                                                                                                                                                                                                                                                                                                                                                                                                                                                                                                                                                                                                                                                                                                                                                                                                                                                                                                                                                                                                                                                                                                                                                                                                                                                                                                                                                                                                                                                                                                                                                                                                                                                                                                                                                                                                                                                                                                                                                                                                                                                                                                                                                                                                                                                                                                                                                                                                                                                                                                                                                                                                                                                                                                                                                                                                                                                                                                                                                                                                                                                                                                                                                                                                                                                                                                                                                                                                                                                                                                                                                                                                                                   \n",
    "    c = Value(10.0,label = 'c')\n",
    "    e = a+b; e.label = 'e'\n",
    "    d = e+c; d.label = 'd'\n",
    "    f = Value(-2.0, label='f')\n",
    "    L = d * f; L.label = 'L'\n",
    "    L1  = L.data\n",
    "    \n",
    "    a = Value(2.0, label='a')\n",
    "    b = Value(-3.7, label= 'b')  \n",
    "    c = Value(10.0+h,label = 'c')\n",
    "    e = a+b; e.label = 'e'\n",
    "    d = e+c; d.label = 'd'\n",
    "    f = Value(-2.0, label='f')\n",
    "    L = d * f; L.label = 'L'\n",
    "    L2 = L.data\n",
    "    print((L2-L1)/h)\n",
    "    \n",
    "lol()"
   ]
  },
  {
   "cell_type": "code",
   "execution_count": 255,
   "id": "c948db9a",
   "metadata": {},
   "outputs": [
    {
     "data": {
      "image/png": "[encoded data removed]",
      "text/plain": [
       "<Figure size 432x288 with 1 Axes>"
      ]
     },
     "metadata": {
      "needs_background": "light"
     },
     "output_type": "display_data"
    }
   ],
   "source": [
    "plt.plot(np.arange(-5,5,0.2), np.tanh(np.arange(-5,5,0.2))); plt.grid();"
   ]
  },
  {
   "cell_type": "code",
   "execution_count": 256,
   "id": "b0edaa29",
   "metadata": {},
   "outputs": [],
   "source": [
    "# inputs x1,x2\n",
    "x1 = Value(2.0, label='x1')\n",
    "x2 = Value(0.0, label='x2')\n",
    "# weights w1,w2\n",
    "w1 = Value(-3.0, label='w1')\n",
    "w2 = Value(1.0, label='w2')\n",
    "# bias of the neuron\n",
    "b = Value(6.8813735870195432, label='b')\n",
    "# x1*w1 + x2*w2 + b\n",
    "x1w1 = x1*w1; x1w1.label = 'x1*w1'\n",
    "x2w2 = x2*w2; x2w2.label = 'x2*w2'\n",
    "x1w1x2w2 = x1w1 + x2w2; x1w1x2w2.label = 'x1*w1 + x2*w2'\n",
    "n = x1w1x2w2 + b; n.label = 'n'\n",
    "o = n.tanh(); o.label ='out'"
   ]
  },
  {
   "cell_type": "code",
   "execution_count": 257,
   "id": "29c48f6a",
   "metadata": {
    "scrolled": true
   },
   "outputs": [
    {
     "data": {
      "image/svg+xml": [
       "<?xml version=\"1.0\" encoding=\"UTF-8\" standalone=\"no\"?>\n",
       "<!DOCTYPE svg PUBLIC \"-//W3C//DTD SVG 1.1//EN\"\n",
       " \"http://www.w3.org/Graphics/SVG/1.1/DTD/svg11.dtd\">\n",
       "<!-- Generated by graphviz version 8.0.2 (20230410.1723)\n",
       " -->\n",
       "<!-- Pages: 1 -->\n",
       "<svg width=\"1662pt\" height=\"210pt\"\n",
       " viewBox=\"0.00 0.00 1662.00 210.00\" xmlns=\"http://www.w3.org/2000/svg\" xmlns:xlink=\"http://www.w3.org/1999/xlink\">\n",
       "<g id=\"graph0\" class=\"graph\" transform=\"scale(1 1) rotate(0) translate(4 206)\">\n",
       "<polygon fill=\"white\" stroke=\"none\" points=\"-4,4 -4,-206 1658,-206 1658,4 -4,4\"/>\n",
       "<!-- 2442915325984 -->\n",
       "<g id=\"node1\" class=\"node\">\n",
       "<title>2442915325984</title>\n",
       "<polygon fill=\"none\" stroke=\"black\" points=\"1442,-54.5 1442,-90.5 1654,-90.5 1654,-54.5 1442,-54.5\"/>\n",
       "<text text-anchor=\"middle\" x=\"1459.5\" y=\"-68.8\" font-family=\"Times New Roman,serif\" font-size=\"14.00\">out</text>\n",
       "<polyline fill=\"none\" stroke=\"black\" points=\"1477,-54.5 1477,-90.5\"/>\n",
       "<text text-anchor=\"middle\" x=\"1517.5\" y=\"-68.8\" font-family=\"Times New Roman,serif\" font-size=\"14.00\">data 0.7071</text>\n",
       "<polyline fill=\"none\" stroke=\"black\" points=\"1558,-54.5 1558,-90.5\"/>\n",
       "<text text-anchor=\"middle\" x=\"1606\" y=\"-68.8\" font-family=\"Times New Roman,serif\" font-size=\"14.00\">grad 0.000000</text>\n",
       "</g>\n",
       "<!-- 2442915325984tanh -->\n",
       "<g id=\"node2\" class=\"node\">\n",
       "<title>2442915325984tanh</title>\n",
       "<ellipse fill=\"none\" stroke=\"black\" cx=\"1379\" cy=\"-72.5\" rx=\"27\" ry=\"18\"/>\n",
       "<text text-anchor=\"middle\" x=\"1379\" y=\"-68.8\" font-family=\"Times New Roman,serif\" font-size=\"14.00\">tanh</text>\n",
       "</g>\n",
       "<!-- 2442915325984tanh&#45;&gt;2442915325984 -->\n",
       "<g id=\"edge1\" class=\"edge\">\n",
       "<title>2442915325984tanh&#45;&gt;2442915325984</title>\n",
       "<path fill=\"none\" stroke=\"black\" d=\"M1406.46,-72.5C1413.8,-72.5 1422.26,-72.5 1431.32,-72.5\"/>\n",
       "<polygon fill=\"black\" stroke=\"black\" points=\"1431.2,-76 1441.2,-72.5 1431.2,-69 1431.2,-76\"/>\n",
       "</g>\n",
       "<!-- 2442915327520 -->\n",
       "<g id=\"node3\" class=\"node\">\n",
       "<title>2442915327520</title>\n",
       "<polygon fill=\"none\" stroke=\"black\" points=\"2.5,-55.5 2.5,-91.5 212.5,-91.5 212.5,-55.5 2.5,-55.5\"/>\n",
       "<text text-anchor=\"middle\" x=\"19\" y=\"-69.8\" font-family=\"Times New Roman,serif\" font-size=\"14.00\">w2</text>\n",
       "<polyline fill=\"none\" stroke=\"black\" points=\"35.5,-55.5 35.5,-91.5\"/>\n",
       "<text text-anchor=\"middle\" x=\"76\" y=\"-69.8\" font-family=\"Times New Roman,serif\" font-size=\"14.00\">data 1.0000</text>\n",
       "<polyline fill=\"none\" stroke=\"black\" points=\"116.5,-55.5 116.5,-91.5\"/>\n",
       "<text text-anchor=\"middle\" x=\"164.5\" y=\"-69.8\" font-family=\"Times New Roman,serif\" font-size=\"14.00\">grad 0.000000</text>\n",
       "</g>\n",
       "<!-- 2442915327280* -->\n",
       "<g id=\"node13\" class=\"node\">\n",
       "<title>2442915327280*</title>\n",
       "<ellipse fill=\"none\" stroke=\"black\" cx=\"278\" cy=\"-73.5\" rx=\"27\" ry=\"18\"/>\n",
       "<text text-anchor=\"middle\" x=\"278\" y=\"-69.8\" font-family=\"Times New Roman,serif\" font-size=\"14.00\">*</text>\n",
       "</g>\n",
       "<!-- 2442915327520&#45;&gt;2442915327280* -->\n",
       "<g id=\"edge11\" class=\"edge\">\n",
       "<title>2442915327520&#45;&gt;2442915327280*</title>\n",
       "<path fill=\"none\" stroke=\"black\" d=\"M212.34,-73.5C222.02,-73.5 231.34,-73.5 239.74,-73.5\"/>\n",
       "<polygon fill=\"black\" stroke=\"black\" points=\"239.58,-77 249.58,-73.5 239.58,-70 239.58,-77\"/>\n",
       "</g>\n",
       "<!-- 2442915326608 -->\n",
       "<g id=\"node4\" class=\"node\">\n",
       "<title>2442915326608</title>\n",
       "<polygon fill=\"none\" stroke=\"black\" points=\"341,-110.5 341,-146.5 576,-146.5 576,-110.5 341,-110.5\"/>\n",
       "<text text-anchor=\"middle\" x=\"367.5\" y=\"-124.8\" font-family=\"Times New Roman,serif\" font-size=\"14.00\">x1*w1</text>\n",
       "<polyline fill=\"none\" stroke=\"black\" points=\"394,-110.5 394,-146.5\"/>\n",
       "<text text-anchor=\"middle\" x=\"437\" y=\"-124.8\" font-family=\"Times New Roman,serif\" font-size=\"14.00\">data &#45;6.0000</text>\n",
       "<polyline fill=\"none\" stroke=\"black\" points=\"480,-110.5 480,-146.5\"/>\n",
       "<text text-anchor=\"middle\" x=\"528\" y=\"-124.8\" font-family=\"Times New Roman,serif\" font-size=\"14.00\">grad 0.000000</text>\n",
       "</g>\n",
       "<!-- 2442915327136+ -->\n",
       "<g id=\"node7\" class=\"node\">\n",
       "<title>2442915327136+</title>\n",
       "<ellipse fill=\"none\" stroke=\"black\" cx=\"639\" cy=\"-100.5\" rx=\"27\" ry=\"18\"/>\n",
       "<text text-anchor=\"middle\" x=\"639\" y=\"-96.8\" font-family=\"Times New Roman,serif\" font-size=\"14.00\">+</text>\n",
       "</g>\n",
       "<!-- 2442915326608&#45;&gt;2442915327136+ -->\n",
       "<g id=\"edge13\" class=\"edge\">\n",
       "<title>2442915326608&#45;&gt;2442915327136+</title>\n",
       "<path fill=\"none\" stroke=\"black\" d=\"M574.06,-110.53C583.86,-108.99 593.22,-107.52 601.61,-106.21\"/>\n",
       "<polygon fill=\"black\" stroke=\"black\" points=\"602.05,-109.53 611.39,-104.52 600.97,-102.61 602.05,-109.53\"/>\n",
       "</g>\n",
       "<!-- 2442915326608* -->\n",
       "<g id=\"node5\" class=\"node\">\n",
       "<title>2442915326608*</title>\n",
       "<ellipse fill=\"none\" stroke=\"black\" cx=\"278\" cy=\"-128.5\" rx=\"27\" ry=\"18\"/>\n",
       "<text text-anchor=\"middle\" x=\"278\" y=\"-124.8\" font-family=\"Times New Roman,serif\" font-size=\"14.00\">*</text>\n",
       "</g>\n",
       "<!-- 2442915326608*&#45;&gt;2442915326608 -->\n",
       "<g id=\"edge2\" class=\"edge\">\n",
       "<title>2442915326608*&#45;&gt;2442915326608</title>\n",
       "<path fill=\"none\" stroke=\"black\" d=\"M305.34,-128.5C312.66,-128.5 321.12,-128.5 330.24,-128.5\"/>\n",
       "<polygon fill=\"black\" stroke=\"black\" points=\"330.22,-132 340.22,-128.5 330.22,-125 330.22,-132\"/>\n",
       "</g>\n",
       "<!-- 2442915327136 -->\n",
       "<g id=\"node6\" class=\"node\">\n",
       "<title>2442915327136</title>\n",
       "<polygon fill=\"none\" stroke=\"black\" points=\"702,-82.5 702,-118.5 990,-118.5 990,-82.5 702,-82.5\"/>\n",
       "<text text-anchor=\"middle\" x=\"755\" y=\"-96.8\" font-family=\"Times New Roman,serif\" font-size=\"14.00\">x1*w1 + x2*w2</text>\n",
       "<polyline fill=\"none\" stroke=\"black\" points=\"808,-82.5 808,-118.5\"/>\n",
       "<text text-anchor=\"middle\" x=\"851\" y=\"-96.8\" font-family=\"Times New Roman,serif\" font-size=\"14.00\">data &#45;6.0000</text>\n",
       "<polyline fill=\"none\" stroke=\"black\" points=\"894,-82.5 894,-118.5\"/>\n",
       "<text text-anchor=\"middle\" x=\"942\" y=\"-96.8\" font-family=\"Times New Roman,serif\" font-size=\"14.00\">grad 0.000000</text>\n",
       "</g>\n",
       "<!-- 2442915326128+ -->\n",
       "<g id=\"node9\" class=\"node\">\n",
       "<title>2442915326128+</title>\n",
       "<ellipse fill=\"none\" stroke=\"black\" cx=\"1053\" cy=\"-72.5\" rx=\"27\" ry=\"18\"/>\n",
       "<text text-anchor=\"middle\" x=\"1053\" y=\"-68.8\" font-family=\"Times New Roman,serif\" font-size=\"14.00\">+</text>\n",
       "</g>\n",
       "<!-- 2442915327136&#45;&gt;2442915326128+ -->\n",
       "<g id=\"edge12\" class=\"edge\">\n",
       "<title>2442915327136&#45;&gt;2442915326128+</title>\n",
       "<path fill=\"none\" stroke=\"black\" d=\"M978.57,-82.53C991.88,-80.71 1004.48,-78.99 1015.36,-77.5\"/>\n",
       "<polygon fill=\"black\" stroke=\"black\" points=\"1015.6,-80.87 1025.03,-76.05 1014.65,-73.93 1015.6,-80.87\"/>\n",
       "</g>\n",
       "<!-- 2442915327136+&#45;&gt;2442915327136 -->\n",
       "<g id=\"edge3\" class=\"edge\">\n",
       "<title>2442915327136+&#45;&gt;2442915327136</title>\n",
       "<path fill=\"none\" stroke=\"black\" d=\"M666.38,-100.5C673.69,-100.5 682.18,-100.5 691.41,-100.5\"/>\n",
       "<polygon fill=\"black\" stroke=\"black\" points=\"691.13,-104 701.13,-100.5 691.13,-97 691.13,-104\"/>\n",
       "</g>\n",
       "<!-- 2442915326128 -->\n",
       "<g id=\"node8\" class=\"node\">\n",
       "<title>2442915326128</title>\n",
       "<polygon fill=\"none\" stroke=\"black\" points=\"1116,-54.5 1116,-90.5 1316,-90.5 1316,-54.5 1116,-54.5\"/>\n",
       "<text text-anchor=\"middle\" x=\"1127.5\" y=\"-68.8\" font-family=\"Times New Roman,serif\" font-size=\"14.00\">n</text>\n",
       "<polyline fill=\"none\" stroke=\"black\" points=\"1139,-54.5 1139,-90.5\"/>\n",
       "<text text-anchor=\"middle\" x=\"1179.5\" y=\"-68.8\" font-family=\"Times New Roman,serif\" font-size=\"14.00\">data 0.8814</text>\n",
       "<polyline fill=\"none\" stroke=\"black\" points=\"1220,-54.5 1220,-90.5\"/>\n",
       "<text text-anchor=\"middle\" x=\"1268\" y=\"-68.8\" font-family=\"Times New Roman,serif\" font-size=\"14.00\">grad 0.000000</text>\n",
       "</g>\n",
       "<!-- 2442915326128&#45;&gt;2442915325984tanh -->\n",
       "<g id=\"edge9\" class=\"edge\">\n",
       "<title>2442915326128&#45;&gt;2442915325984tanh</title>\n",
       "<path fill=\"none\" stroke=\"black\" d=\"M1315.75,-72.5C1324.59,-72.5 1333.11,-72.5 1340.87,-72.5\"/>\n",
       "<polygon fill=\"black\" stroke=\"black\" points=\"1340.64,-76 1350.64,-72.5 1340.64,-69 1340.64,-76\"/>\n",
       "</g>\n",
       "<!-- 2442915326128+&#45;&gt;2442915326128 -->\n",
       "<g id=\"edge4\" class=\"edge\">\n",
       "<title>2442915326128+&#45;&gt;2442915326128</title>\n",
       "<path fill=\"none\" stroke=\"black\" d=\"M1080.23,-72.5C1087.59,-72.5 1096.09,-72.5 1105.17,-72.5\"/>\n",
       "<polygon fill=\"black\" stroke=\"black\" points=\"1105.05,-76 1115.05,-72.5 1105.05,-69 1105.05,-76\"/>\n",
       "</g>\n",
       "<!-- 2442915327184 -->\n",
       "<g id=\"node10\" class=\"node\">\n",
       "<title>2442915327184</title>\n",
       "<polygon fill=\"none\" stroke=\"black\" points=\"0,-165.5 0,-201.5 215,-201.5 215,-165.5 0,-165.5\"/>\n",
       "<text text-anchor=\"middle\" x=\"16.5\" y=\"-179.8\" font-family=\"Times New Roman,serif\" font-size=\"14.00\">w1</text>\n",
       "<polyline fill=\"none\" stroke=\"black\" points=\"33,-165.5 33,-201.5\"/>\n",
       "<text text-anchor=\"middle\" x=\"76\" y=\"-179.8\" font-family=\"Times New Roman,serif\" font-size=\"14.00\">data &#45;3.0000</text>\n",
       "<polyline fill=\"none\" stroke=\"black\" points=\"119,-165.5 119,-201.5\"/>\n",
       "<text text-anchor=\"middle\" x=\"167\" y=\"-179.8\" font-family=\"Times New Roman,serif\" font-size=\"14.00\">grad 0.000000</text>\n",
       "</g>\n",
       "<!-- 2442915327184&#45;&gt;2442915326608* -->\n",
       "<g id=\"edge14\" class=\"edge\">\n",
       "<title>2442915327184&#45;&gt;2442915326608*</title>\n",
       "<path fill=\"none\" stroke=\"black\" d=\"M186.05,-165.54C195.87,-162.77 205.73,-159.74 215,-156.5 225.34,-152.88 236.33,-148.21 246.14,-143.72\"/>\n",
       "<polygon fill=\"black\" stroke=\"black\" points=\"247.29,-146.58 254.86,-139.17 244.32,-140.24 247.29,-146.58\"/>\n",
       "</g>\n",
       "<!-- 2442915327760 -->\n",
       "<g id=\"node11\" class=\"node\">\n",
       "<title>2442915327760</title>\n",
       "<polygon fill=\"none\" stroke=\"black\" points=\"4,-110.5 4,-146.5 211,-146.5 211,-110.5 4,-110.5\"/>\n",
       "<text text-anchor=\"middle\" x=\"19\" y=\"-124.8\" font-family=\"Times New Roman,serif\" font-size=\"14.00\">x1</text>\n",
       "<polyline fill=\"none\" stroke=\"black\" points=\"34,-110.5 34,-146.5\"/>\n",
       "<text text-anchor=\"middle\" x=\"74.5\" y=\"-124.8\" font-family=\"Times New Roman,serif\" font-size=\"14.00\">data 2.0000</text>\n",
       "<polyline fill=\"none\" stroke=\"black\" points=\"115,-110.5 115,-146.5\"/>\n",
       "<text text-anchor=\"middle\" x=\"163\" y=\"-124.8\" font-family=\"Times New Roman,serif\" font-size=\"14.00\">grad 0.000000</text>\n",
       "</g>\n",
       "<!-- 2442915327760&#45;&gt;2442915326608* -->\n",
       "<g id=\"edge7\" class=\"edge\">\n",
       "<title>2442915327760&#45;&gt;2442915326608*</title>\n",
       "<path fill=\"none\" stroke=\"black\" d=\"M210.89,-128.5C221.05,-128.5 230.84,-128.5 239.63,-128.5\"/>\n",
       "<polygon fill=\"black\" stroke=\"black\" points=\"239.55,-132 249.55,-128.5 239.55,-125 239.55,-132\"/>\n",
       "</g>\n",
       "<!-- 2442915327280 -->\n",
       "<g id=\"node12\" class=\"node\">\n",
       "<title>2442915327280</title>\n",
       "<polygon fill=\"none\" stroke=\"black\" points=\"343.5,-55.5 343.5,-91.5 573.5,-91.5 573.5,-55.5 343.5,-55.5\"/>\n",
       "<text text-anchor=\"middle\" x=\"370\" y=\"-69.8\" font-family=\"Times New Roman,serif\" font-size=\"14.00\">x2*w2</text>\n",
       "<polyline fill=\"none\" stroke=\"black\" points=\"396.5,-55.5 396.5,-91.5\"/>\n",
       "<text text-anchor=\"middle\" x=\"437\" y=\"-69.8\" font-family=\"Times New Roman,serif\" font-size=\"14.00\">data 0.0000</text>\n",
       "<polyline fill=\"none\" stroke=\"black\" points=\"477.5,-55.5 477.5,-91.5\"/>\n",
       "<text text-anchor=\"middle\" x=\"525.5\" y=\"-69.8\" font-family=\"Times New Roman,serif\" font-size=\"14.00\">grad 0.000000</text>\n",
       "</g>\n",
       "<!-- 2442915327280&#45;&gt;2442915327136+ -->\n",
       "<g id=\"edge6\" class=\"edge\">\n",
       "<title>2442915327280&#45;&gt;2442915327136+</title>\n",
       "<path fill=\"none\" stroke=\"black\" d=\"M573.31,-90.71C583.41,-92.24 593.06,-93.7 601.67,-95.01\"/>\n",
       "<polygon fill=\"black\" stroke=\"black\" points=\"600.95,-98.59 611.36,-96.62 602,-91.67 600.95,-98.59\"/>\n",
       "</g>\n",
       "<!-- 2442915327280*&#45;&gt;2442915327280 -->\n",
       "<g id=\"edge5\" class=\"edge\">\n",
       "<title>2442915327280*&#45;&gt;2442915327280</title>\n",
       "<path fill=\"none\" stroke=\"black\" d=\"M305.34,-73.5C313.33,-73.5 322.69,-73.5 332.76,-73.5\"/>\n",
       "<polygon fill=\"black\" stroke=\"black\" points=\"332.5,-77 342.5,-73.5 332.5,-70 332.5,-77\"/>\n",
       "</g>\n",
       "<!-- 2442915324832 -->\n",
       "<g id=\"node14\" class=\"node\">\n",
       "<title>2442915324832</title>\n",
       "<polygon fill=\"none\" stroke=\"black\" points=\"745.5,-27.5 745.5,-63.5 946.5,-63.5 946.5,-27.5 745.5,-27.5\"/>\n",
       "<text text-anchor=\"middle\" x=\"757.5\" y=\"-41.8\" font-family=\"Times New Roman,serif\" font-size=\"14.00\">b</text>\n",
       "<polyline fill=\"none\" stroke=\"black\" points=\"769.5,-27.5 769.5,-63.5\"/>\n",
       "<text text-anchor=\"middle\" x=\"810\" y=\"-41.8\" font-family=\"Times New Roman,serif\" font-size=\"14.00\">data 6.8814</text>\n",
       "<polyline fill=\"none\" stroke=\"black\" points=\"850.5,-27.5 850.5,-63.5\"/>\n",
       "<text text-anchor=\"middle\" x=\"898.5\" y=\"-41.8\" font-family=\"Times New Roman,serif\" font-size=\"14.00\">grad 0.000000</text>\n",
       "</g>\n",
       "<!-- 2442915324832&#45;&gt;2442915326128+ -->\n",
       "<g id=\"edge8\" class=\"edge\">\n",
       "<title>2442915324832&#45;&gt;2442915326128+</title>\n",
       "<path fill=\"none\" stroke=\"black\" d=\"M946.5,-58.6C971.23,-61.86 996.19,-65.15 1015.62,-67.71\"/>\n",
       "<polygon fill=\"black\" stroke=\"black\" points=\"1015.01,-71.29 1025.38,-69.13 1015.92,-64.35 1015.01,-71.29\"/>\n",
       "</g>\n",
       "<!-- 2442915327904 -->\n",
       "<g id=\"node15\" class=\"node\">\n",
       "<title>2442915327904</title>\n",
       "<polygon fill=\"none\" stroke=\"black\" points=\"4,-0.5 4,-36.5 211,-36.5 211,-0.5 4,-0.5\"/>\n",
       "<text text-anchor=\"middle\" x=\"19\" y=\"-14.8\" font-family=\"Times New Roman,serif\" font-size=\"14.00\">x2</text>\n",
       "<polyline fill=\"none\" stroke=\"black\" points=\"34,-0.5 34,-36.5\"/>\n",
       "<text text-anchor=\"middle\" x=\"74.5\" y=\"-14.8\" font-family=\"Times New Roman,serif\" font-size=\"14.00\">data 0.0000</text>\n",
       "<polyline fill=\"none\" stroke=\"black\" points=\"115,-0.5 115,-36.5\"/>\n",
       "<text text-anchor=\"middle\" x=\"163\" y=\"-14.8\" font-family=\"Times New Roman,serif\" font-size=\"14.00\">grad 0.000000</text>\n",
       "</g>\n",
       "<!-- 2442915327904&#45;&gt;2442915327280* -->\n",
       "<g id=\"edge10\" class=\"edge\">\n",
       "<title>2442915327904&#45;&gt;2442915327280*</title>\n",
       "<path fill=\"none\" stroke=\"black\" d=\"M186.05,-36.46C195.87,-39.23 205.73,-42.26 215,-45.5 225.34,-49.12 236.33,-53.79 246.14,-58.28\"/>\n",
       "<polygon fill=\"black\" stroke=\"black\" points=\"244.32,-61.76 254.86,-62.83 247.29,-55.42 244.32,-61.76\"/>\n",
       "</g>\n",
       "</g>\n",
       "</svg>\n"
      ],
      "text/plain": [
       "<graphviz.graphs.Digraph at 0x238c8f92730>"
      ]
     },
     "execution_count": 257,
     "metadata": {},
     "output_type": "execute_result"
    }
   ],
   "source": [
    "draw_dot(o)"
   ]
  },
  {
   "cell_type": "code",
   "execution_count": 258,
   "id": "55c00569",
   "metadata": {},
   "outputs": [],
   "source": [
    "o.backward() "
   ]
  },
  {
   "cell_type": "code",
   "execution_count": 259,
   "id": "3e4165ba",
   "metadata": {},
   "outputs": [
    {
     "data": {
      "text/plain": [
       "'\"\\no.grad =1.0\\n\\ntopo = []\\nvisited = set()\\ndef build_topo(v): # starts at output, if it not visited it marks it as visited\\n  if v not in visited:\\n    visited.add(v)\\n    for child in v._prev: # iterates thru all the children and then adds to itself, allows for\\n      build_topo(child)\\n    topo.append(v)\\nbuild_topo(o)\\n\\nfor node in reversed(topo):\\n      node._backward()\\n'"
      ]
     },
     "execution_count": 259,
     "metadata": {},
     "output_type": "execute_result"
    }
   ],
   "source": [
    "\"\"\"\"\n",
    "o.grad =1.0\n",
    "\n",
    "topo = []\n",
    "visited = set()\n",
    "def build_topo(v): # starts at output, if it not visited it marks it as visited\n",
    "  if v not in visited:\n",
    "    visited.add(v)\n",
    "    for child in v._prev: # iterates thru all the children and then adds to itself, allows for\n",
    "      build_topo(child)\n",
    "    topo.append(v)\n",
    "build_topo(o)\n",
    "\n",
    "for node in reversed(topo):\n",
    "      node._backward()\n",
    "\"\"\""
   ]
  },
  {
   "cell_type": "code",
   "execution_count": 260,
   "id": "3b8483ee",
   "metadata": {},
   "outputs": [
    {
     "data": {
      "text/plain": [
       "[Value(data=2.0),\n",
       " Value(data=-3.0),\n",
       " Value(data=-6.0),\n",
       " Value(data=1.0),\n",
       " Value(data=0.0),\n",
       " Value(data=0.0),\n",
       " Value(data=-6.0),\n",
       " Value(data=6.881373587019543),\n",
       " Value(data=0.8813735870195432),\n",
       " Value(data=0.7071067811865476)]"
      ]
     },
     "execution_count": 260,
     "metadata": {},
     "output_type": "execute_result"
    }
   ],
   "source": [
    "topo = []\n",
    "visited = set()\n",
    "def build_topo(v): # starts at output, if it not visited it marks it as visited\n",
    "  if v not in visited:\n",
    "    visited.add(v)\n",
    "    for child in v._prev: # iterates thru all the children and then adds to itself, allows for\n",
    "      build_topo(child)\n",
    "    topo.append(v)\n",
    "build_topo(o)\n",
    "topo\n",
    "\n",
    "# now we can call ._backward on all the nodes in a topological order (in the commented out cell above)"
   ]
  },
  {
   "cell_type": "code",
   "execution_count": 261,
   "id": "539d3c5a",
   "metadata": {},
   "outputs": [],
   "source": [
    "#o.grad = 1.0 # initialising our base case"
   ]
  },
  {
   "cell_type": "code",
   "execution_count": 262,
   "id": "0173a940",
   "metadata": {},
   "outputs": [],
   "source": [
    "#o._backward()"
   ]
  },
  {
   "cell_type": "code",
   "execution_count": 263,
   "id": "0dcbfa62",
   "metadata": {},
   "outputs": [],
   "source": [
    "#n._backward()"
   ]
  },
  {
   "cell_type": "code",
   "execution_count": 264,
   "id": "80c8d9a1",
   "metadata": {},
   "outputs": [],
   "source": [
    "#b._backward() # nothing happens"
   ]
  },
  {
   "cell_type": "code",
   "execution_count": 265,
   "id": "a863aa15",
   "metadata": {},
   "outputs": [],
   "source": [
    "#x1w1x2w2._backward()"
   ]
  },
  {
   "cell_type": "code",
   "execution_count": 266,
   "id": "1ad7e57f",
   "metadata": {},
   "outputs": [],
   "source": [
    "#x1w1._backward()\n",
    "#x2w2._backward()"
   ]
  },
  {
   "cell_type": "code",
   "execution_count": null,
   "id": "b3bd43fa",
   "metadata": {},
   "outputs": [],
   "source": []
  },
  {
   "cell_type": "markdown",
   "id": "431839ed",
   "metadata": {},
   "source": [
    "\"\"\"\n",
    "o.grad = 1.0\n",
    "\n",
    "n.grad = 1 - o.data**2 # o.data = n.tanh\n",
    "\n",
    "b.grad = n.grad\n",
    "\n",
    "x1w1x2w2.grad = n.grad # cause + operation\n",
    "\n",
    "x1w1.grad = x1w1x2w2.grad # cause + operation\n",
    "x2w2.grad = x1w1x2w2.grad\n",
    "\n",
    "w1.grad = x1.data * x1w1.grad\n",
    "x1.grad = w1.data * x1w1.grad\n",
    "w2.grad = x2.data * x2w2.grad # 0 because x2 = 0, meaning wiggling the weight wont have any effect as it is nullyfied by the input x2\n",
    "x2.grad = w2.data * x2w2.grad\n",
    "\n",
    "\"\"\""
   ]
  },
  {
   "cell_type": "code",
   "execution_count": 267,
   "id": "a2f39ca5",
   "metadata": {},
   "outputs": [
    {
     "data": {
      "image/svg+xml": [
       "<?xml version=\"1.0\" encoding=\"UTF-8\" standalone=\"no\"?>\n",
       "<!DOCTYPE svg PUBLIC \"-//W3C//DTD SVG 1.1//EN\"\n",
       " \"http://www.w3.org/Graphics/SVG/1.1/DTD/svg11.dtd\">\n",
       "<!-- Generated by graphviz version 8.0.2 (20230410.1723)\n",
       " -->\n",
       "<!-- Pages: 1 -->\n",
       "<svg width=\"535pt\" height=\"45pt\"\n",
       " viewBox=\"0.00 0.00 535.00 45.00\" xmlns=\"http://www.w3.org/2000/svg\" xmlns:xlink=\"http://www.w3.org/1999/xlink\">\n",
       "<g id=\"graph0\" class=\"graph\" transform=\"scale(1 1) rotate(0) translate(4 41)\">\n",
       "<polygon fill=\"white\" stroke=\"none\" points=\"-4,4 -4,-41 531,-41 531,4 -4,4\"/>\n",
       "<!-- 2442913486304 -->\n",
       "<g id=\"node1\" class=\"node\">\n",
       "<title>2442913486304</title>\n",
       "<polygon fill=\"none\" stroke=\"black\" points=\"326,-0.5 326,-36.5 527,-36.5 527,-0.5 326,-0.5\"/>\n",
       "<text text-anchor=\"middle\" x=\"338\" y=\"-14.8\" font-family=\"Times New Roman,serif\" font-size=\"14.00\">b</text>\n",
       "<polyline fill=\"none\" stroke=\"black\" points=\"350,-0.5 350,-36.5\"/>\n",
       "<text text-anchor=\"middle\" x=\"390.5\" y=\"-14.8\" font-family=\"Times New Roman,serif\" font-size=\"14.00\">data 6.0000</text>\n",
       "<polyline fill=\"none\" stroke=\"black\" points=\"431,-0.5 431,-36.5\"/>\n",
       "<text text-anchor=\"middle\" x=\"479\" y=\"-14.8\" font-family=\"Times New Roman,serif\" font-size=\"14.00\">grad 1.000000</text>\n",
       "</g>\n",
       "<!-- 2442913486304+ -->\n",
       "<g id=\"node2\" class=\"node\">\n",
       "<title>2442913486304+</title>\n",
       "<ellipse fill=\"none\" stroke=\"black\" cx=\"263\" cy=\"-18.5\" rx=\"27\" ry=\"18\"/>\n",
       "<text text-anchor=\"middle\" x=\"263\" y=\"-14.8\" font-family=\"Times New Roman,serif\" font-size=\"14.00\">+</text>\n",
       "</g>\n",
       "<!-- 2442913486304+&#45;&gt;2442913486304 -->\n",
       "<g id=\"edge1\" class=\"edge\">\n",
       "<title>2442913486304+&#45;&gt;2442913486304</title>\n",
       "<path fill=\"none\" stroke=\"black\" d=\"M290.31,-18.5C297.7,-18.5 306.22,-18.5 315.33,-18.5\"/>\n",
       "<polygon fill=\"black\" stroke=\"black\" points=\"315.24,-22 325.24,-18.5 315.24,-15 315.24,-22\"/>\n",
       "</g>\n",
       "<!-- 2442913661808 -->\n",
       "<g id=\"node3\" class=\"node\">\n",
       "<title>2442913661808</title>\n",
       "<polygon fill=\"none\" stroke=\"black\" points=\"0,-0.5 0,-36.5 200,-36.5 200,-0.5 0,-0.5\"/>\n",
       "<text text-anchor=\"middle\" x=\"11.5\" y=\"-14.8\" font-family=\"Times New Roman,serif\" font-size=\"14.00\">a</text>\n",
       "<polyline fill=\"none\" stroke=\"black\" points=\"23,-0.5 23,-36.5\"/>\n",
       "<text text-anchor=\"middle\" x=\"63.5\" y=\"-14.8\" font-family=\"Times New Roman,serif\" font-size=\"14.00\">data 3.0000</text>\n",
       "<polyline fill=\"none\" stroke=\"black\" points=\"104,-0.5 104,-36.5\"/>\n",
       "<text text-anchor=\"middle\" x=\"152\" y=\"-14.8\" font-family=\"Times New Roman,serif\" font-size=\"14.00\">grad 2.000000</text>\n",
       "</g>\n",
       "<!-- 2442913661808&#45;&gt;2442913486304+ -->\n",
       "<g id=\"edge2\" class=\"edge\">\n",
       "<title>2442913661808&#45;&gt;2442913486304+</title>\n",
       "<path fill=\"none\" stroke=\"black\" d=\"M199.75,-18.5C208.59,-18.5 217.11,-18.5 224.87,-18.5\"/>\n",
       "<polygon fill=\"black\" stroke=\"black\" points=\"224.64,-22 234.64,-18.5 224.64,-15 224.64,-22\"/>\n",
       "</g>\n",
       "</g>\n",
       "</svg>\n"
      ],
      "text/plain": [
       "<graphviz.graphs.Digraph at 0x238c90048e0>"
      ]
     },
     "execution_count": 267,
     "metadata": {},
     "output_type": "execute_result"
    }
   ],
   "source": [
    "# making the bug surface in the backward functions (can be fixed in the value class by changing the grad setting =, to accumulating +=)\n",
    "\n",
    "a = Value(3.0, label='a')\n",
    "b = a + a   ; b.label = 'b'\n",
    "b.backward()\n",
    "draw_dot(b)"
   ]
  },
  {
   "cell_type": "code",
   "execution_count": 268,
   "id": "c84ecc73",
   "metadata": {},
   "outputs": [
    {
     "data": {
      "image/svg+xml": [
       "<?xml version=\"1.0\" encoding=\"UTF-8\" standalone=\"no\"?>\n",
       "<!DOCTYPE svg PUBLIC \"-//W3C//DTD SVG 1.1//EN\"\n",
       " \"http://www.w3.org/Graphics/SVG/1.1/DTD/svg11.dtd\">\n",
       "<!-- Generated by graphviz version 8.0.2 (20230410.1723)\n",
       " -->\n",
       "<!-- Pages: 1 -->\n",
       "<svg width=\"879pt\" height=\"100pt\"\n",
       " viewBox=\"0.00 0.00 879.00 100.00\" xmlns=\"http://www.w3.org/2000/svg\" xmlns:xlink=\"http://www.w3.org/1999/xlink\">\n",
       "<g id=\"graph0\" class=\"graph\" transform=\"scale(1 1) rotate(0) translate(4 96)\">\n",
       "<polygon fill=\"white\" stroke=\"none\" points=\"-4,4 -4,-96 875,-96 875,4 -4,4\"/>\n",
       "<!-- 2442889935888 -->\n",
       "<g id=\"node1\" class=\"node\">\n",
       "<title>2442889935888</title>\n",
       "<polygon fill=\"none\" stroke=\"black\" points=\"336,-55.5 336,-91.5 542,-91.5 542,-55.5 336,-55.5\"/>\n",
       "<text text-anchor=\"middle\" x=\"348\" y=\"-69.8\" font-family=\"Times New Roman,serif\" font-size=\"14.00\">d</text>\n",
       "<polyline fill=\"none\" stroke=\"black\" points=\"360,-55.5 360,-91.5\"/>\n",
       "<text text-anchor=\"middle\" x=\"403\" y=\"-69.8\" font-family=\"Times New Roman,serif\" font-size=\"14.00\">data &#45;6.0000</text>\n",
       "<polyline fill=\"none\" stroke=\"black\" points=\"446,-55.5 446,-91.5\"/>\n",
       "<text text-anchor=\"middle\" x=\"494\" y=\"-69.8\" font-family=\"Times New Roman,serif\" font-size=\"14.00\">grad 1.000000</text>\n",
       "</g>\n",
       "<!-- 2442889933488* -->\n",
       "<g id=\"node4\" class=\"node\">\n",
       "<title>2442889933488*</title>\n",
       "<ellipse fill=\"none\" stroke=\"black\" cx=\"605\" cy=\"-45.5\" rx=\"27\" ry=\"18\"/>\n",
       "<text text-anchor=\"middle\" x=\"605\" y=\"-41.8\" font-family=\"Times New Roman,serif\" font-size=\"14.00\">*</text>\n",
       "</g>\n",
       "<!-- 2442889935888&#45;&gt;2442889933488* -->\n",
       "<g id=\"edge8\" class=\"edge\">\n",
       "<title>2442889935888&#45;&gt;2442889933488*</title>\n",
       "<path fill=\"none\" stroke=\"black\" d=\"M542,-56.09C551.12,-54.53 559.89,-53.03 567.82,-51.68\"/>\n",
       "<polygon fill=\"black\" stroke=\"black\" points=\"568.14,-55 577.41,-49.87 566.97,-48.1 568.14,-55\"/>\n",
       "</g>\n",
       "<!-- 2442889935888* -->\n",
       "<g id=\"node2\" class=\"node\">\n",
       "<title>2442889935888*</title>\n",
       "<ellipse fill=\"none\" stroke=\"black\" cx=\"273\" cy=\"-73.5\" rx=\"27\" ry=\"18\"/>\n",
       "<text text-anchor=\"middle\" x=\"273\" y=\"-69.8\" font-family=\"Times New Roman,serif\" font-size=\"14.00\">*</text>\n",
       "</g>\n",
       "<!-- 2442889935888*&#45;&gt;2442889935888 -->\n",
       "<g id=\"edge1\" class=\"edge\">\n",
       "<title>2442889935888*&#45;&gt;2442889935888</title>\n",
       "<path fill=\"none\" stroke=\"black\" d=\"M300.35,-73.5C307.7,-73.5 316.19,-73.5 325.26,-73.5\"/>\n",
       "<polygon fill=\"black\" stroke=\"black\" points=\"325.15,-77 335.15,-73.5 325.15,-70 325.15,-77\"/>\n",
       "</g>\n",
       "<!-- 2442889933488 -->\n",
       "<g id=\"node3\" class=\"node\">\n",
       "<title>2442889933488</title>\n",
       "<polygon fill=\"none\" stroke=\"black\" points=\"668,-27.5 668,-63.5 871,-63.5 871,-27.5 668,-27.5\"/>\n",
       "<text text-anchor=\"middle\" x=\"678.5\" y=\"-41.8\" font-family=\"Times New Roman,serif\" font-size=\"14.00\">f</text>\n",
       "<polyline fill=\"none\" stroke=\"black\" points=\"689,-27.5 689,-63.5\"/>\n",
       "<text text-anchor=\"middle\" x=\"732\" y=\"-41.8\" font-family=\"Times New Roman,serif\" font-size=\"14.00\">data &#45;6.0000</text>\n",
       "<polyline fill=\"none\" stroke=\"black\" points=\"775,-27.5 775,-63.5\"/>\n",
       "<text text-anchor=\"middle\" x=\"823\" y=\"-41.8\" font-family=\"Times New Roman,serif\" font-size=\"14.00\">grad 1.000000</text>\n",
       "</g>\n",
       "<!-- 2442889933488*&#45;&gt;2442889933488 -->\n",
       "<g id=\"edge2\" class=\"edge\">\n",
       "<title>2442889933488*&#45;&gt;2442889933488</title>\n",
       "<path fill=\"none\" stroke=\"black\" d=\"M632.47,-45.5C639.84,-45.5 648.33,-45.5 657.4,-45.5\"/>\n",
       "<polygon fill=\"black\" stroke=\"black\" points=\"657.28,-49 667.28,-45.5 657.28,-42 657.28,-49\"/>\n",
       "</g>\n",
       "<!-- 2442889935648 -->\n",
       "<g id=\"node5\" class=\"node\">\n",
       "<title>2442889935648</title>\n",
       "<polygon fill=\"none\" stroke=\"black\" points=\"336.5,-0.5 336.5,-36.5 541.5,-36.5 541.5,-0.5 336.5,-0.5\"/>\n",
       "<text text-anchor=\"middle\" x=\"348\" y=\"-14.8\" font-family=\"Times New Roman,serif\" font-size=\"14.00\">e</text>\n",
       "<polyline fill=\"none\" stroke=\"black\" points=\"359.5,-0.5 359.5,-36.5\"/>\n",
       "<text text-anchor=\"middle\" x=\"400\" y=\"-14.8\" font-family=\"Times New Roman,serif\" font-size=\"14.00\">data 1.0000</text>\n",
       "<polyline fill=\"none\" stroke=\"black\" points=\"440.5,-0.5 440.5,-36.5\"/>\n",
       "<text text-anchor=\"middle\" x=\"491\" y=\"-14.8\" font-family=\"Times New Roman,serif\" font-size=\"14.00\">grad &#45;6.000000</text>\n",
       "</g>\n",
       "<!-- 2442889935648&#45;&gt;2442889933488* -->\n",
       "<g id=\"edge9\" class=\"edge\">\n",
       "<title>2442889935648&#45;&gt;2442889933488*</title>\n",
       "<path fill=\"none\" stroke=\"black\" d=\"M541.06,-35.14C550.38,-36.67 559.35,-38.15 567.46,-39.48\"/>\n",
       "<polygon fill=\"black\" stroke=\"black\" points=\"566.85,-43.1 577.28,-41.27 567.99,-36.19 566.85,-43.1\"/>\n",
       "</g>\n",
       "<!-- 2442889935648+ -->\n",
       "<g id=\"node6\" class=\"node\">\n",
       "<title>2442889935648+</title>\n",
       "<ellipse fill=\"none\" stroke=\"black\" cx=\"273\" cy=\"-18.5\" rx=\"27\" ry=\"18\"/>\n",
       "<text text-anchor=\"middle\" x=\"273\" y=\"-14.8\" font-family=\"Times New Roman,serif\" font-size=\"14.00\">+</text>\n",
       "</g>\n",
       "<!-- 2442889935648+&#45;&gt;2442889935648 -->\n",
       "<g id=\"edge3\" class=\"edge\">\n",
       "<title>2442889935648+&#45;&gt;2442889935648</title>\n",
       "<path fill=\"none\" stroke=\"black\" d=\"M300.35,-18.5C307.91,-18.5 316.68,-18.5 326.04,-18.5\"/>\n",
       "<polygon fill=\"black\" stroke=\"black\" points=\"325.84,-22 335.84,-18.5 325.84,-15 325.84,-22\"/>\n",
       "</g>\n",
       "<!-- 2442913440576 -->\n",
       "<g id=\"node7\" class=\"node\">\n",
       "<title>2442913440576</title>\n",
       "<polygon fill=\"none\" stroke=\"black\" points=\"0,-55.5 0,-91.5 210,-91.5 210,-55.5 0,-55.5\"/>\n",
       "<text text-anchor=\"middle\" x=\"11.5\" y=\"-69.8\" font-family=\"Times New Roman,serif\" font-size=\"14.00\">a</text>\n",
       "<polyline fill=\"none\" stroke=\"black\" points=\"23,-55.5 23,-91.5\"/>\n",
       "<text text-anchor=\"middle\" x=\"66\" y=\"-69.8\" font-family=\"Times New Roman,serif\" font-size=\"14.00\">data &#45;2.0000</text>\n",
       "<polyline fill=\"none\" stroke=\"black\" points=\"109,-55.5 109,-91.5\"/>\n",
       "<text text-anchor=\"middle\" x=\"159.5\" y=\"-69.8\" font-family=\"Times New Roman,serif\" font-size=\"14.00\">grad &#45;3.000000</text>\n",
       "</g>\n",
       "<!-- 2442913440576&#45;&gt;2442889935888* -->\n",
       "<g id=\"edge6\" class=\"edge\">\n",
       "<title>2442913440576&#45;&gt;2442889935888*</title>\n",
       "<path fill=\"none\" stroke=\"black\" d=\"M209.72,-73.5C218.61,-73.5 227.17,-73.5 234.94,-73.5\"/>\n",
       "<polygon fill=\"black\" stroke=\"black\" points=\"234.71,-77 244.71,-73.5 234.71,-70 234.71,-77\"/>\n",
       "</g>\n",
       "<!-- 2442913440576&#45;&gt;2442889935648+ -->\n",
       "<g id=\"edge4\" class=\"edge\">\n",
       "<title>2442913440576&#45;&gt;2442889935648+</title>\n",
       "<path fill=\"none\" stroke=\"black\" d=\"M181.44,-55.54C191.13,-52.76 200.85,-49.73 210,-46.5 220.33,-42.86 231.32,-38.17 241.13,-33.69\"/>\n",
       "<polygon fill=\"black\" stroke=\"black\" points=\"242.28,-36.55 249.85,-29.13 239.31,-30.21 242.28,-36.55\"/>\n",
       "</g>\n",
       "<!-- 2442913441104 -->\n",
       "<g id=\"node8\" class=\"node\">\n",
       "<title>2442913441104</title>\n",
       "<polygon fill=\"none\" stroke=\"black\" points=\"2,-0.5 2,-36.5 208,-36.5 208,-0.5 2,-0.5\"/>\n",
       "<text text-anchor=\"middle\" x=\"14\" y=\"-14.8\" font-family=\"Times New Roman,serif\" font-size=\"14.00\">b</text>\n",
       "<polyline fill=\"none\" stroke=\"black\" points=\"26,-0.5 26,-36.5\"/>\n",
       "<text text-anchor=\"middle\" x=\"66.5\" y=\"-14.8\" font-family=\"Times New Roman,serif\" font-size=\"14.00\">data 3.0000</text>\n",
       "<polyline fill=\"none\" stroke=\"black\" points=\"107,-0.5 107,-36.5\"/>\n",
       "<text text-anchor=\"middle\" x=\"157.5\" y=\"-14.8\" font-family=\"Times New Roman,serif\" font-size=\"14.00\">grad &#45;8.000000</text>\n",
       "</g>\n",
       "<!-- 2442913441104&#45;&gt;2442889935888* -->\n",
       "<g id=\"edge7\" class=\"edge\">\n",
       "<title>2442913441104&#45;&gt;2442889935888*</title>\n",
       "<path fill=\"none\" stroke=\"black\" d=\"M178.31,-36.49C189.02,-39.58 199.85,-42.95 210,-46.5 220.09,-50.03 230.85,-54.47 240.52,-58.72\"/>\n",
       "<polygon fill=\"black\" stroke=\"black\" points=\"238.95,-62.3 249.51,-63.21 241.82,-55.91 238.95,-62.3\"/>\n",
       "</g>\n",
       "<!-- 2442913441104&#45;&gt;2442889935648+ -->\n",
       "<g id=\"edge5\" class=\"edge\">\n",
       "<title>2442913441104&#45;&gt;2442889935648+</title>\n",
       "<path fill=\"none\" stroke=\"black\" d=\"M207.82,-18.5C217.42,-18.5 226.66,-18.5 235,-18.5\"/>\n",
       "<polygon fill=\"black\" stroke=\"black\" points=\"234.75,-22 244.75,-18.5 234.75,-15 234.75,-22\"/>\n",
       "</g>\n",
       "</g>\n",
       "</svg>\n"
      ],
      "text/plain": [
       "<graphviz.graphs.Digraph at 0x238c8fcef10>"
      ]
     },
     "execution_count": 268,
     "metadata": {},
     "output_type": "execute_result"
    }
   ],
   "source": [
    "a = Value(-2.0, label='a')\n",
    "b = Value(3.0, label='b')\n",
    "d = a * b    ; d.label = 'd'\n",
    "e = a + b    ; e.label = 'e'\n",
    "f = d * e    ; f.label = 'f'\n",
    "\n",
    "f.backward()\n",
    "\n",
    "draw_dot(f)"
   ]
  },
  {
   "cell_type": "code",
   "execution_count": null,
   "id": "9a80e05f",
   "metadata": {},
   "outputs": [],
   "source": []
  }
 ],
 "metadata": {
  "kernelspec": {
   "display_name": "Python 3",
   "language": "python",
   "name": "python3"
  },
  "language_info": {
   "codemirror_mode": {
    "name": "ipython",
    "version": 3
   },
   "file_extension": ".py",
   "mimetype": "text/x-python",
   "name": "python",
   "nbconvert_exporter": "python",
   "pygments_lexer": "ipython3",
   "version": "3.8.8"
  }
 },
 "nbformat": 4,
 "nbformat_minor": 5
}
