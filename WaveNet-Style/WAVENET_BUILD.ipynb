{
  "nbformat": 4,
  "nbformat_minor": 0,
  "metadata": {
    "colab": {
      "provenance": []
    },
    "kernelspec": {
      "name": "python3",
      "display_name": "Python 3"
    },
    "language_info": {
      "name": "python"
    }
  },
  "cells": [
    {
      "cell_type": "code",
      "execution_count": 180,
      "metadata": {
        "id": "3kUZbfPkdCN4"
      },
      "outputs": [],
      "source": [
        "import torch\n",
        "import torch.nn.functional as F\n",
        "import matplotlib.pyplot as plt # for making figures\n",
        "%matplotlib inline"
      ]
    },
    {
      "cell_type": "code",
      "source": [
        "#unpack our learning dataset\n",
        "words = open('names.txt','r').read().splitlines()\n",
        "words[:6]"
      ],
      "metadata": {
        "colab": {
          "base_uri": "https://localhost:8080/"
        },
        "id": "98bAB2yXdXSn",
        "outputId": "3dc91b0c-7568-4f98-d9a4-f392c7b28f54"
      },
      "execution_count": 181,
      "outputs": [
        {
          "output_type": "execute_result",
          "data": {
            "text/plain": [
              "['emma', 'olivia', 'ava', 'isabella', 'sophia', 'charlotte']"
            ]
          },
          "metadata": {},
          "execution_count": 181
        }
      ]
    },
    {
      "cell_type": "code",
      "source": [
        "#Vocabulary of characters an mappings from/to integers\n",
        "\n",
        "chars = sorted(list(set(''.join(words)))) # concatenate all dataset as a sinle string and passes it thru the set constructor\n",
        "\n",
        "stoi = {s:i+1 for i,s in enumerate(chars)} # stoi maps a-0, b-1 and so on til z-25\n",
        "\n",
        "# what about ourspecial char\n",
        "stoi['.'] = 0\n",
        "itos = {i:s for s,i in stoi.items()}\n",
        "vocab_size = len(itos)\n",
        "print(itos)\n",
        "print(vocab_size)"
      ],
      "metadata": {
        "colab": {
          "base_uri": "https://localhost:8080/"
        },
        "id": "_hxvUdfxdXyP",
        "outputId": "8dc2bbac-ab59-441e-8a3b-d50b434d80c3"
      },
      "execution_count": 182,
      "outputs": [
        {
          "output_type": "stream",
          "name": "stdout",
          "text": [
            "{1: 'a', 2: 'b', 3: 'c', 4: 'd', 5: 'e', 6: 'f', 7: 'g', 8: 'h', 9: 'i', 10: 'j', 11: 'k', 12: 'l', 13: 'm', 14: 'n', 15: 'o', 16: 'p', 17: 'q', 18: 'r', 19: 's', 20: 't', 21: 'u', 22: 'v', 23: 'w', 24: 'x', 25: 'y', 26: 'z', 0: '.'}\n",
            "27\n"
          ]
        }
      ]
    },
    {
      "cell_type": "code",
      "source": [
        "# shuffle up the words\n",
        "import random\n",
        "random.seed(42)\n",
        "random.shuffle(words)"
      ],
      "metadata": {
        "id": "jJDBrXyueXIY"
      },
      "execution_count": 183,
      "outputs": []
    },
    {
      "cell_type": "code",
      "source": [
        "# building the dataset\n",
        "\n",
        "block_size = 8 # context length: how many char do we take to predict the next one\n",
        "\n",
        "\n",
        "def build_dataset(words):\n",
        "    \n",
        "    X, Y = [], [] #X are input to the NN and Y are the label for each example inside X\n",
        "    for w in words[:]: #rn first 5 for efficeincy\n",
        "      #print(w) \n",
        "      context = [0] * block_size # padded context of 0 tokens\n",
        "      for ch in w + '.':\n",
        "        ix = stoi[ch]     \n",
        "        X.append(context) # stores the current running context context \n",
        "        Y.append(ix) # array y of the current character \n",
        "        context = context[1:] + [ix] # crop the context and append new char in sequence\n",
        "\n",
        "    X = torch.tensor(X)\n",
        "    Y = torch.tensor(Y)\n",
        "    print(X.shape, Y.shape)\n",
        "    return X, Y\n",
        "\n",
        "import random\n",
        "random.seed(42)\n",
        "random.shuffle(words)\n",
        "n1 = int(0.8*len(words))\n",
        "n2 = int(0.9*len(words))\n",
        "\n",
        "Xtr, Ytr = build_dataset(words[:n1]) #80% of the words\n",
        "Xdev, Ydev = build_dataset(words[n1:n2])# 90 -80% of the words\n",
        "Xte, Yte = build_dataset(words[n2:])# remaining words"
      ],
      "metadata": {
        "colab": {
          "base_uri": "https://localhost:8080/"
        },
        "id": "D5u5BZpxdf1H",
        "outputId": "e2bf7c26-4b98-4137-c049-9504b7cc8c6b"
      },
      "execution_count": 184,
      "outputs": [
        {
          "output_type": "stream",
          "name": "stdout",
          "text": [
            "torch.Size([182580, 8]) torch.Size([182580])\n",
            "torch.Size([22767, 8]) torch.Size([22767])\n",
            "torch.Size([22799, 8]) torch.Size([22799])\n"
          ]
        }
      ]
    },
    {
      "cell_type": "code",
      "source": [
        "for x,y in zip(Xtr[:20], Ytr[:20]):\n",
        "  print(''.join(itos[ix.item()] for ix in x), '-->', itos[y.item()])"
      ],
      "metadata": {
        "colab": {
          "base_uri": "https://localhost:8080/"
        },
        "id": "HRGcod0TeQT-",
        "outputId": "b8ea213f-5341-4cdc-caa0-8223339652a2"
      },
      "execution_count": 185,
      "outputs": [
        {
          "output_type": "stream",
          "name": "stdout",
          "text": [
            "........ --> e\n",
            ".......e --> b\n",
            "......eb --> r\n",
            ".....ebr --> i\n",
            "....ebri --> m\n",
            "...ebrim --> a\n",
            "..ebrima --> .\n",
            "........ --> h\n",
            ".......h --> i\n",
            "......hi --> l\n",
            ".....hil --> t\n",
            "....hilt --> o\n",
            "...hilto --> n\n",
            "..hilton --> .\n",
            "........ --> j\n",
            ".......j --> h\n",
            "......jh --> e\n",
            ".....jhe --> n\n",
            "....jhen --> e\n",
            "...jhene --> .\n"
          ]
        }
      ]
    },
    {
      "cell_type": "code",
      "source": [
        "# Lets creater a deeper network\n",
        "\n",
        "# create a linear layer (like the hpreact but more suited for pytorch)\n",
        "#-------------------------------------------------------------------------------\n",
        "class Linear:\n",
        "  def __init__(self, fan_in, fan_out, bias =True):\n",
        "    self.weight = torch.randn((fan_in, fan_out)) / fan_in**0.5\n",
        "    self.bias = torch.zeros(fan_out) if bias else None\n",
        "  \n",
        "  def __call__(self, x):\n",
        "    self.out = x @ self.weight\n",
        "    if self.bias is not None:\n",
        "      self.out += self.bias\n",
        "    return self.out\n",
        "\n",
        "  def parameters(self):\n",
        "    return [self.weight] + ([] if self.bias is None else [self.bias])\n",
        "#-------------------------------------------------------------------------------\n",
        "\n",
        "#Batch Normalization Layer\n",
        "#-------------------------------------------------------------------------------\n",
        "class BatchNorm1d:\n",
        "  \n",
        "  def __init__(self, dim, eps=1e-5, momentum=0.1):\n",
        "    self.eps = eps\n",
        "    self.momentum = momentum\n",
        "    self.training = True\n",
        "    # parameters (trained with backprop)\n",
        "    self.gamma = torch.ones(dim) # for when we train the nueral net\n",
        "    self.beta = torch.zeros(dim)\n",
        "    # buffers (trained with a running 'momentum update') (not part of the back propagation)\n",
        "    self.running_mean = torch.zeros(dim) # for inference (currently averaging over 32 numbers but we want 32* 4 numbers cause x became 3dim)\n",
        "    self.running_var = torch.ones(dim)\n",
        "  \n",
        "  def __call__(self, x):\n",
        "    # calculate the forward pass\n",
        "    if self.training:\n",
        "      if x.ndim == 2:\n",
        "        dim = 0 \n",
        "      elif x.ndim == 3:\n",
        "        dim = (0,1) # NOTE: this is a lil diff from pytorch api as we expect (N,L,C) but pytorch expects (N,C,L)\n",
        "      xmean = x.mean(dim, keepdim=True) # batch mean\n",
        "      xvar = x.var(dim, keepdim=True) # batch variance\n",
        "    else:\n",
        "      xmean = self.running_mean\n",
        "      xvar = self.running_var\n",
        "    xhat = (x - xmean) / torch.sqrt(xvar + self.eps) # normalize to unit variance\n",
        "    self.out = self.gamma * xhat + self.beta\n",
        "    # update the buffers\n",
        "    if self.training:\n",
        "      with torch.no_grad(): #use this because if you dont then pytorch will star building out an entire computational graph cause it will expect that eventually we will back propagate thru this (call .backward)\n",
        "        self.running_mean = (1 - self.momentum) * self.running_mean + self.momentum * xmean #exponential moving average\n",
        "        self.running_var = (1 - self.momentum) * self.running_var + self.momentum * xvar\n",
        "    return self.out\n",
        "  \n",
        "  def parameters(self):\n",
        "    return [self.gamma, self.beta]\n",
        "#-------------------------------------------------------------------------------\n",
        "\n",
        "#Non-Linearity\n",
        "#-------------------------------------------------------------------------------\n",
        "class Tanh:\n",
        "  def __call__(self, x):\n",
        "    self.out = torch.tanh(x)\n",
        "    return self.out\n",
        "  def parameters(self):\n",
        "    return []\n",
        "#-------------------------------------------------------------------------------\n",
        "\n",
        "#Embedding Module\n",
        "# -----------------------------------------------------------------------------------------------\n",
        "class Embedding:\n",
        "  \n",
        "  def __init__(self, num_embeddings, embedding_dim):\n",
        "    self.weight = torch.randn((num_embeddings, embedding_dim))\n",
        "    \n",
        "  def __call__(self, IX):\n",
        "    self.out = self.weight[IX]\n",
        "    return self.out\n",
        "  \n",
        "  def parameters(self):\n",
        "    return [self.weight]\n",
        "\n",
        "# -----------------------------------------------------------------------------------------------\n",
        "\n",
        "#Flattening operation\n",
        "# -----------------------------------------------------------------------------------------------\n",
        "class FlattenConsecutive:\n",
        "    \n",
        "  def __init__(self, n):\n",
        "    self.n = n  \n",
        "  def __call__(self, x):\n",
        "    B, T, C = x.shape\n",
        "    x = x.view(B, T//self.n, C*self.n)\n",
        "    if x.shape[1] == 1:\n",
        "      x = x.squeeze(1)\n",
        "\n",
        "    self.out = x\n",
        "    return self.out\n",
        "  \n",
        "  def parameters(self):\n",
        "    return []\n",
        "# -----------------------------------------------------------------------------------------------\n",
        "\n",
        "#Sequential Container (a container is a way of organizing the layers check documentation for more details)\n",
        "# -----------------------------------------------------------------------------------------------\n",
        "class Sequential:\n",
        "  \n",
        "  def __init__(self, layers):\n",
        "    self.layers = layers\n",
        "  \n",
        "  def __call__(self, x):\n",
        "    for layer in self.layers:\n",
        "      x = layer(x)\n",
        "    self.out = x\n",
        "    return self.out\n",
        "  \n",
        "  def parameters(self):\n",
        "    # get parameters of all layers and stretch them out into one list\n",
        "    return [p for layer in self.layers for p in layer.parameters()]\n",
        "#--------------------------------------------------------------------------------------\n",
        "\n",
        "\n"
      ],
      "metadata": {
        "id": "YgjHr8faedQm"
      },
      "execution_count": 186,
      "outputs": []
    },
    {
      "cell_type": "code",
      "source": [
        "torch.manual_seed(42); #seed rng for reproducibility"
      ],
      "metadata": {
        "id": "ns_1oxq6eowh"
      },
      "execution_count": 187,
      "outputs": []
    },
    {
      "cell_type": "code",
      "source": [
        "n_embd = 24 #10 # the dimensionality of the character embedding vectors\n",
        "n_hidden = 128 # 200 # the number of neurons in the hidden layer of the MLP\n",
        "#g = torch.Generator().manual_seed(2147483647) # for reproducibility\n",
        "\n",
        "\n",
        "#layers with batch norm (ususally between linear layer and non linearity but we can try to paly around to suit some specific purposes)\n",
        "model = Sequential([\n",
        "    Embedding(vocab_size, n_embd),\n",
        "    FlattenConsecutive(2), Linear(n_embd * 2, n_hidden, bias=False), BatchNorm1d(n_hidden), Tanh(),\n",
        "    FlattenConsecutive(2), Linear(n_hidden * 2, n_hidden, bias=False), BatchNorm1d(n_hidden), Tanh(),\n",
        "    FlattenConsecutive(2), Linear(n_hidden * 2, n_hidden, bias=False), BatchNorm1d(n_hidden), Tanh(),\n",
        "    Linear(n_hidden, vocab_size),# bias=False), BatchNorm1d(vocab_size)\n",
        "])\n",
        "\n",
        "\n",
        "with torch.no_grad():\n",
        "  # last layer: make less confident\n",
        "  #layers[-1].gamma *= 0.1 # for batchnorm\n",
        "  model.layers[-1].weight *= 0.1\n",
        "  # all other layers: apply gain\n",
        "  # for layer in layers[:-1]:\n",
        "  #   if isinstance(layer, Linear):\n",
        "  #     layer.weight *= 5/3 #1.0 \n",
        "\n",
        "parameters = model.parameters() # embedding matrix\n",
        "print(sum(p.nelement() for p in parameters)) # number of parameters in total\n",
        "for p in parameters:\n",
        "  p.requires_grad = True"
      ],
      "metadata": {
        "colab": {
          "base_uri": "https://localhost:8080/"
        },
        "id": "NX4AVT3YCtpE",
        "outputId": "20d6fd4a-ec5f-4fd5-d396-e40c47abc528"
      },
      "execution_count": 198,
      "outputs": [
        {
          "output_type": "stream",
          "name": "stdout",
          "text": [
            "76579\n"
          ]
        }
      ]
    },
    {
      "cell_type": "code",
      "source": [
        "# lets look at a batch of just 5 examples\n",
        "ix = torch.randint(0, Xtr.shape[0], (4,))\n",
        "Xb, Yb = Xtr[ix], Ytr[ix]\n",
        "logits = model(Xb)\n",
        "print(Xb.shape)\n",
        "Xb"
      ],
      "metadata": {
        "colab": {
          "base_uri": "https://localhost:8080/"
        },
        "id": "b75AUbW7YWXB",
        "outputId": "60d6aa5b-5b7b-4873-a3f3-45c7515da8eb"
      },
      "execution_count": 199,
      "outputs": [
        {
          "output_type": "stream",
          "name": "stdout",
          "text": [
            "torch.Size([4, 8])\n"
          ]
        },
        {
          "output_type": "execute_result",
          "data": {
            "text/plain": [
              "tensor([[ 0,  0,  0,  0,  0, 12, 25, 14],\n",
              "        [ 0,  0, 20, 18,  5, 19,  8,  1],\n",
              "        [ 0,  0,  0,  0,  0, 10,  1,  7],\n",
              "        [ 0,  0,  0,  0,  0, 14,  5,  9]])"
            ]
          },
          "metadata": {},
          "execution_count": 199
        }
      ]
    },
    {
      "cell_type": "code",
      "source": [
        "#inspect the shapes\n",
        "for layer in model.layers:\n",
        "  print(layer.__class__.__name__, ':', tuple(layer.out.shape))"
      ],
      "metadata": {
        "colab": {
          "base_uri": "https://localhost:8080/"
        },
        "id": "TPsyfhaCx2_k",
        "outputId": "b5e9a2ef-b648-4261-9e84-bb49776e4f57"
      },
      "execution_count": 200,
      "outputs": [
        {
          "output_type": "stream",
          "name": "stdout",
          "text": [
            "Embedding : (4, 8, 24)\n",
            "FlattenConsecutive : (4, 4, 48)\n",
            "Linear : (4, 4, 128)\n",
            "BatchNorm1d : (4, 4, 128)\n",
            "Tanh : (4, 4, 128)\n",
            "FlattenConsecutive : (4, 2, 256)\n",
            "Linear : (4, 2, 128)\n",
            "BatchNorm1d : (4, 2, 128)\n",
            "Tanh : (4, 2, 128)\n",
            "FlattenConsecutive : (4, 256)\n",
            "Linear : (4, 128)\n",
            "BatchNorm1d : (4, 128)\n",
            "Tanh : (4, 128)\n",
            "Linear : (4, 27)\n"
          ]
        }
      ]
    },
    {
      "cell_type": "code",
      "source": [
        "model.layers[0].out.shape # output of embedding layer"
      ],
      "metadata": {
        "colab": {
          "base_uri": "https://localhost:8080/"
        },
        "id": "pykbBtksZTvD",
        "outputId": "a028302f-67fa-4229-c593-641c7a86243b"
      },
      "execution_count": 201,
      "outputs": [
        {
          "output_type": "execute_result",
          "data": {
            "text/plain": [
              "torch.Size([4, 8, 24])"
            ]
          },
          "metadata": {},
          "execution_count": 201
        }
      ]
    },
    {
      "cell_type": "code",
      "source": [
        "model.layers[1].out.shape # output of Flatten layer"
      ],
      "metadata": {
        "colab": {
          "base_uri": "https://localhost:8080/"
        },
        "id": "rIb_E_k4ZTn-",
        "outputId": "2038d1fa-593d-44e2-b769-066216cc871d"
      },
      "execution_count": 202,
      "outputs": [
        {
          "output_type": "execute_result",
          "data": {
            "text/plain": [
              "torch.Size([4, 4, 48])"
            ]
          },
          "metadata": {},
          "execution_count": 202
        }
      ]
    },
    {
      "cell_type": "code",
      "source": [
        "model.layers[2].out.shape # output of Linear layer"
      ],
      "metadata": {
        "colab": {
          "base_uri": "https://localhost:8080/"
        },
        "id": "zfi8n8j_ZThZ",
        "outputId": "d4c2a6ff-6132-4b53-f16a-87182f9ff70a"
      },
      "execution_count": 203,
      "outputs": [
        {
          "output_type": "execute_result",
          "data": {
            "text/plain": [
              "torch.Size([4, 4, 128])"
            ]
          },
          "metadata": {},
          "execution_count": 203
        }
      ]
    },
    {
      "cell_type": "code",
      "source": [
        "(torch.randn(4,4,20) @ torch.randn(20,200) + torch.randn(200)).shape"
      ],
      "metadata": {
        "colab": {
          "base_uri": "https://localhost:8080/"
        },
        "id": "CMabUszvZTB2",
        "outputId": "c40a11e4-02f3-4755-b7d7-8a916dbc835b"
      },
      "execution_count": 204,
      "outputs": [
        {
          "output_type": "execute_result",
          "data": {
            "text/plain": [
              "torch.Size([4, 4, 200])"
            ]
          },
          "metadata": {},
          "execution_count": 204
        }
      ]
    },
    {
      "cell_type": "code",
      "source": [
        "list(range(10))[1::2]"
      ],
      "metadata": {
        "colab": {
          "base_uri": "https://localhost:8080/"
        },
        "id": "ddieRJzgfjg5",
        "outputId": "0c90f254-d242-4bf6-8b19-eaa560e87257"
      },
      "execution_count": 205,
      "outputs": [
        {
          "output_type": "execute_result",
          "data": {
            "text/plain": [
              "[1, 3, 5, 7, 9]"
            ]
          },
          "metadata": {},
          "execution_count": 205
        }
      ]
    },
    {
      "cell_type": "code",
      "source": [
        "list(range(10))[::2]"
      ],
      "metadata": {
        "colab": {
          "base_uri": "https://localhost:8080/"
        },
        "id": "dlwdWvEXfVnV",
        "outputId": "463386d1-7c51-4be0-9e95-62d0a5d1b03b"
      },
      "execution_count": 206,
      "outputs": [
        {
          "output_type": "execute_result",
          "data": {
            "text/plain": [
              "[0, 2, 4, 6, 8]"
            ]
          },
          "metadata": {},
          "execution_count": 206
        }
      ]
    },
    {
      "cell_type": "code",
      "source": [
        "# same optimization as last time\n",
        "max_steps = 200000\n",
        "batch_size = 32\n",
        "lossi = []\n",
        "ud = []\n",
        "\n",
        "for i in range(max_steps):\n",
        "  \n",
        "  # minibatch construct\n",
        "  ix = torch.randint(0, Xtr.shape[0], (batch_size,), generator=g)\n",
        "  Xb, Yb = Xtr[ix], Ytr[ix] # batch X,Y\n",
        "  \n",
        "  # forward pass\n",
        "  logits = model(Xb)\n",
        "  loss = F.cross_entropy(logits, Yb) # loss function\n",
        "  \n",
        "  # backward pass\n",
        "  for layer in layers:\n",
        "    layer.out.retain_grad() # AFTER_DEBUG: would take out retain_graph\n",
        "  for p in parameters:\n",
        "    p.grad = None\n",
        "  loss.backward()\n",
        "  \n",
        "  # update\n",
        "  lr = 0.1 if i < 100000 else (0.01 if i < 150000 else 0.001) # step learning rate decay\n",
        "  for p in parameters:\n",
        "    p.data += -lr * p.grad\n",
        "\n",
        "  # track stats\n",
        "  if i % 10000 == 0: # print every once in a while\n",
        "    print(f'{i:7d}/{max_steps:7d}: {loss.item():.4f}')\n",
        "  lossi.append(loss.log10().item())\n",
        "  with torch.no_grad():\n",
        "    ud.append([((lr*p.grad).std() / p.data.std()).log10().item() for p in parameters]) # keeping track of the update to data ratio (update is lr * grad)\n",
        "\n",
        "  #if i >= 1000:\n",
        "  #break # AFTER_DEBUG: would take out obviously to run full optimization"
      ],
      "metadata": {
        "colab": {
          "base_uri": "https://localhost:8080/"
        },
        "id": "7Jrcu47iDnyr",
        "outputId": "a8a553ca-af8e-484e-b670-c6898f6ec3b7"
      },
      "execution_count": 207,
      "outputs": [
        {
          "output_type": "stream",
          "name": "stdout",
          "text": [
            "      0/ 200000: 3.2845\n",
            "  10000/ 200000: 1.6439\n",
            "  20000/ 200000: 2.3351\n",
            "  30000/ 200000: 2.1386\n",
            "  40000/ 200000: 1.9069\n",
            "  50000/ 200000: 2.1104\n",
            "  60000/ 200000: 2.0582\n",
            "  70000/ 200000: 1.7767\n",
            "  80000/ 200000: 2.0560\n",
            "  90000/ 200000: 2.1184\n",
            " 100000/ 200000: 1.8950\n",
            " 110000/ 200000: 1.8403\n",
            " 120000/ 200000: 1.4877\n",
            " 130000/ 200000: 1.6541\n",
            " 140000/ 200000: 1.8638\n",
            " 150000/ 200000: 1.7060\n",
            " 160000/ 200000: 1.9391\n",
            " 170000/ 200000: 2.0486\n",
            " 180000/ 200000: 1.3970\n",
            " 190000/ 200000: 1.5697\n"
          ]
        }
      ]
    },
    {
      "cell_type": "code",
      "source": [
        "plt.plot(torch.tensor(lossi).view(-1,1000).mean(1))"
      ],
      "metadata": {
        "colab": {
          "base_uri": "https://localhost:8080/",
          "height": 447
        },
        "id": "qa8KBrUDE_1B",
        "outputId": "ad0d11f1-5417-4c05-a571-98039d80c050"
      },
      "execution_count": 208,
      "outputs": [
        {
          "output_type": "execute_result",
          "data": {
            "text/plain": [
              "[<matplotlib.lines.Line2D at 0x7ff021f867a0>]"
            ]
          },
          "metadata": {},
          "execution_count": 208
        },
        {
          "output_type": "display_data",
          "data": {
            "text/plain": [
              "<Figure size 640x480 with 1 Axes>"
            ],
            "image/png": "[encoded data removed]"
          },
          "metadata": {}
        }
      ]
    },
    {
      "cell_type": "code",
      "source": [],
      "metadata": {
        "id": "OE0sPuL0Hze6"
      },
      "execution_count": 208,
      "outputs": []
    },
    {
      "cell_type": "code",
      "source": [],
      "metadata": {
        "id": "MUwJsQpkHdps"
      },
      "execution_count": 208,
      "outputs": []
    },
    {
      "cell_type": "code",
      "source": [
        "# put layers in eval mode (crucial for batchnorm)\n",
        "for layer in model.layers:\n",
        "  layer.training = False"
      ],
      "metadata": {
        "id": "iiH1r08iFD9K"
      },
      "execution_count": 209,
      "outputs": []
    },
    {
      "cell_type": "code",
      "source": [
        "# evaluate train and val loss\n",
        "\n",
        "@torch.no_grad() # this decorator disables gradient tracking\n",
        "def split_loss(split):\n",
        "  x,y = {\n",
        "    'train': (Xtr, Ytr),\n",
        "    'val': (Xdev, Ydev),\n",
        "    'test': (Xte, Yte),\n",
        "  }[split]\n",
        "  logits = model(x)\n",
        "  loss = F.cross_entropy(logits, y)\n",
        "  print(split, loss.item())\n",
        "\n",
        "split_loss('train')\n",
        "split_loss('val')"
      ],
      "metadata": {
        "colab": {
          "base_uri": "https://localhost:8080/"
        },
        "id": "chhCjR3cFXvn",
        "outputId": "ce449e71-c6ea-4889-818f-7a045d7164f2"
      },
      "execution_count": 210,
      "outputs": [
        {
          "output_type": "stream",
          "name": "stdout",
          "text": [
            "train 1.7935439348220825\n",
            "val 1.9802156686782837\n"
          ]
        }
      ]
    },
    {
      "cell_type": "markdown",
      "source": [
        "**Performance Log**\n",
        "\n",
        "\n",
        "*   OG: 3 char context + 200 hidden Nueron --> 12K param --> 2.058 train, 2.105 val\n",
        "*   Now: 8 char context + 200 hidden Nueron --> 22K param --> 1.93 train, 2.025 val\n",
        "*   Flat + Bug fix in batchnorm: 1.925 train, 2.020 val\n",
        "*   scaledup Net: n_embd 24, n_hid 128 (78K param)  1.794 train, 1.980 val \n",
        "\n",
        "\n",
        "\n"
      ],
      "metadata": {
        "id": "UR8dtU7aYdII"
      }
    },
    {
      "cell_type": "code",
      "source": [
        "# sample from the model\n",
        "g = torch.Generator().manual_seed(2147483647 + 10)\n",
        "\n",
        "for _ in range(20):\n",
        "    \n",
        "    out = []\n",
        "    context = [0] * block_size # initialize with all ...\n",
        "    while True:\n",
        "      # forward pass the neural net\n",
        "      logits = model(torch.tensor([context]))\n",
        "      probs = F.softmax(logits, dim=1)\n",
        "      # sample from the distribution\n",
        "      ix = torch.multinomial(probs, num_samples=1, generator=g).item()\n",
        "      # shift the context window and track the samples\n",
        "      context = context[1:] + [ix]\n",
        "      out.append(ix)\n",
        "      # if we sample the special '.' token, break\n",
        "      if ix == 0:\n",
        "        break\n",
        "    \n",
        "    print(''.join(itos[i] for i in out)) # decode and print the generated word"
      ],
      "metadata": {
        "colab": {
          "base_uri": "https://localhost:8080/"
        },
        "id": "aMXVs5dpFsv5",
        "outputId": "6343e57d-37e1-4776-be83-8025ac0bb22b"
      },
      "execution_count": 211,
      "outputs": [
        {
          "output_type": "stream",
          "name": "stdout",
          "text": [
            "montay.\n",
            "yazmine.\n",
            "madhayla.\n",
            "remmas.\n",
            "endra.\n",
            "graden.\n",
            "daelin.\n",
            "shyloh.\n",
            "leighanno.\n",
            "aarvell.\n",
            "kohlynn.\n",
            "noshub.\n",
            "rishith.\n",
            "ston.\n",
            "joselynn.\n",
            "novaley.\n",
            "brenden.\n",
            "kylene.\n",
            "ehsyn.\n",
            "ajayah.\n"
          ]
        }
      ]
    },
    {
      "cell_type": "markdown",
      "source": [
        "Whats Next ??? CONVOLUTION NN (yaay)\n",
        "tho its just optimization really. "
      ],
      "metadata": {
        "id": "Ew5bgsUIC241"
      }
    },
    {
      "cell_type": "code",
      "source": [
        "# convolution is a \"for loop\" that allows us to forward the Linear layer more effeciently\n",
        "for x,y in zip(Xtr[7:15], Ytr[7:15]):\n",
        "  print(''.join(itos[ix.item()] for ix in x), '-->', itos[y.item()])\n",
        "\n",
        "# were looking at a specific name with 7 chars ==> 8 independent examples in our model\n"
      ],
      "metadata": {
        "colab": {
          "base_uri": "https://localhost:8080/"
        },
        "id": "vD-5UqoqG3bf",
        "outputId": "d3012c9a-9af5-4f11-cafc-99dfca081bbb"
      },
      "execution_count": 212,
      "outputs": [
        {
          "output_type": "stream",
          "name": "stdout",
          "text": [
            "........ --> h\n",
            ".......h --> i\n",
            "......hi --> l\n",
            ".....hil --> t\n",
            "....hilt --> o\n",
            "...hilto --> n\n",
            "..hilton --> .\n",
            "........ --> j\n"
          ]
        }
      ]
    },
    {
      "cell_type": "code",
      "source": [
        "# forward a single example:\n",
        "logits = model(Xtr[[7]])\n",
        "logits.shape"
      ],
      "metadata": {
        "colab": {
          "base_uri": "https://localhost:8080/"
        },
        "id": "nZJhoa3KDkvL",
        "outputId": "188d3697-b082-4a74-896e-e75a913363aa"
      },
      "execution_count": 213,
      "outputs": [
        {
          "output_type": "execute_result",
          "data": {
            "text/plain": [
              "torch.Size([1, 27])"
            ]
          },
          "metadata": {},
          "execution_count": 213
        }
      ]
    },
    {
      "cell_type": "code",
      "source": [
        "# forward all of them\n",
        "logits = torch.zeros(8, 27)\n",
        "for i in range(8):\n",
        "  logits[i] = model(Xtr[[7+i]])\n",
        "logits.shape"
      ],
      "metadata": {
        "colab": {
          "base_uri": "https://localhost:8080/"
        },
        "id": "IN7fQ-rpDrl5",
        "outputId": "3447627c-7e78-427e-e849-6178e5993801"
      },
      "execution_count": 214,
      "outputs": [
        {
          "output_type": "execute_result",
          "data": {
            "text/plain": [
              "torch.Size([8, 27])"
            ]
          },
          "metadata": {},
          "execution_count": 214
        }
      ]
    },
    {
      "cell_type": "code",
      "source": [
        "# convolution is a \"for loop\"\n",
        "# allows us to forward Linear layers efficiently over space"
      ],
      "metadata": {
        "id": "k1q7JYpdDtpQ"
      },
      "execution_count": 215,
      "outputs": []
    },
    {
      "cell_type": "code",
      "source": [],
      "metadata": {
        "id": "ApjyWZzyDvfa"
      },
      "execution_count": 215,
      "outputs": []
    }
  ]
}